{
  "cells": [
    {
      "cell_type": "markdown",
      "metadata": {
        "colab_type": "text",
        "id": "view-in-github"
      },
      "source": [
        "<a href=\"https://colab.research.google.com/github/ayotomiwaa/aml-numerai-2/blob/main/Numerai_EDA_Baseline.ipynb\" target=\"_parent\"><img src=\"https://colab.research.google.com/assets/colab-badge.svg\" alt=\"Open In Colab\"/></a>"
      ]
    },
    {
      "cell_type": "code",
      "execution_count": 1,
      "metadata": {
        "id": "hP5khNLMaDHy"
      },
      "outputs": [],
      "source": [
        "# Install dependencies\n",
        "!pip install -q numerapi pandas pyarrow matplotlib lightgbm scikit-learn cloudpickle lazypredict pandas-profiling\n",
        "\n",
        "# Inline plots\n",
        "%matplotlib inline"
      ]
    },
    {
      "cell_type": "markdown",
      "metadata": {
        "id": "CAJbuNX2cPZN"
      },
      "source": [
        "## 1. Dataset  \n",
        "\n",
        "At a high level, the Numerai dataset is a tabular dataset that describes the stock market over time.\n",
        "\n",
        "Each row represents a stock at a specific point in time, where `id` is the stock id and the `era` is the date. The `features` describe the attributes of the stock (eg. P/E ratio) known on the date and the `target` is a measure of 20-day returns.\n",
        "\n",
        "The unique thing about Numerai's dataset is that it is `obfuscated`, which means that the underlying stock ids, feature names, and target definitions are anonymized. This makes it so that we can give this data out for free and so that it can be modeled without any financial domain knowledge (or bias!)."
      ]
    },
    {
      "cell_type": "markdown",
      "metadata": {
        "id": "8koHeUevbvTN"
      },
      "source": [
        "### Downloading the Dataset"
      ]
    },
    {
      "cell_type": "code",
      "execution_count": 2,
      "metadata": {
        "colab": {
          "base_uri": "https://localhost:8080/"
        },
        "id": "o8q8ZWJobzhN",
        "outputId": "8441a646-9eaf-49ad-b396-c0ce9fa66102"
      },
      "outputs": [
        {
          "data": {
            "text/plain": [
              "['v4.2/features.json',\n",
              " 'v4.2/live_benchmark_models.parquet',\n",
              " 'v4.2/live_example_preds.csv',\n",
              " 'v4.2/live_example_preds.parquet',\n",
              " 'v4.2/live_int8.parquet',\n",
              " 'v4.2/meta_model.parquet',\n",
              " 'v4.2/train_benchmark_models.parquet',\n",
              " 'v4.2/train_int8.parquet',\n",
              " 'v4.2/validation_benchmark_models.parquet',\n",
              " 'v4.2/validation_example_preds.csv',\n",
              " 'v4.2/validation_example_preds.parquet',\n",
              " 'v4.2/validation_int8.parquet']"
            ]
          },
          "execution_count": 2,
          "metadata": {},
          "output_type": "execute_result"
        }
      ],
      "source": [
        "# Initialize NumerAPI - the official Python API client for Numerai\n",
        "from numerapi import NumerAPI\n",
        "napi = NumerAPI()\n",
        "\n",
        "# Print all files available for download in the latest dataset\n",
        "[f for f in napi.list_datasets() if f.startswith(\"v4.2\")]"
      ]
    },
    {
      "cell_type": "code",
      "execution_count": 3,
      "metadata": {
        "id": "chhfM1IGb2kF"
      },
      "outputs": [
        {
          "name": "stderr",
          "output_type": "stream",
          "text": [
            "2023-11-22 10:16:28,917 INFO numerapi.utils: target file already exists\n",
            "2023-11-22 10:16:28,918 INFO numerapi.utils: download complete\n",
            "2023-11-22 10:16:29,781 INFO numerapi.utils: target file already exists\n",
            "2023-11-22 10:16:29,781 INFO numerapi.utils: download complete\n"
          ]
        }
      ],
      "source": [
        "import pandas as pd\n",
        "import json\n",
        "\n",
        "# # Download the training data and feature metadata\n",
        "# # This will take a few minutes 🍵\n",
        "napi.download_dataset(\"v4.2/train_int8.parquet\");\n",
        "napi.download_dataset(\"v4.2/features.json\");"
      ]
    },
    {
      "cell_type": "code",
      "execution_count": 4,
      "metadata": {
        "colab": {
          "base_uri": "https://localhost:8080/",
          "height": 475
        },
        "id": "1pPNAVBDcA39",
        "outputId": "ec22a7d0-030d-455e-faff-f145eea8de40"
      },
      "outputs": [
        {
          "data": {
            "text/html": [
              "<div>\n",
              "<style scoped>\n",
              "    .dataframe tbody tr th:only-of-type {\n",
              "        vertical-align: middle;\n",
              "    }\n",
              "\n",
              "    .dataframe tbody tr th {\n",
              "        vertical-align: top;\n",
              "    }\n",
              "\n",
              "    .dataframe thead th {\n",
              "        text-align: right;\n",
              "    }\n",
              "</style>\n",
              "<table border=\"1\" class=\"dataframe\">\n",
              "  <thead>\n",
              "    <tr style=\"text-align: right;\">\n",
              "      <th></th>\n",
              "      <th>era</th>\n",
              "      <th>feature_abating_unadaptable_weakfish</th>\n",
              "      <th>feature_ablest_mauritanian_elding</th>\n",
              "      <th>feature_acclimatisable_unfeigned_maghreb</th>\n",
              "      <th>feature_accommodable_crinite_cleft</th>\n",
              "      <th>feature_accretive_sorrier_skedaddle</th>\n",
              "      <th>feature_acetose_periotic_coronation</th>\n",
              "      <th>feature_additive_untrustworthy_hierologist</th>\n",
              "      <th>feature_adsorbed_blizzardy_burlesque</th>\n",
              "      <th>feature_affettuoso_taxidermic_greg</th>\n",
              "      <th>...</th>\n",
              "      <th>feature_wistful_tussive_cycloserine</th>\n",
              "      <th>feature_witchy_orange_muley</th>\n",
              "      <th>feature_wombed_liberatory_malva</th>\n",
              "      <th>feature_won_stalwart_eisenstein</th>\n",
              "      <th>feature_wrathful_prolix_colotomy</th>\n",
              "      <th>feature_wrinkliest_unmaintainable_usk</th>\n",
              "      <th>feature_wrought_muckier_temporality</th>\n",
              "      <th>feature_yelled_hysteretic_eath</th>\n",
              "      <th>feature_yoruban_unapplied_tawse</th>\n",
              "      <th>target</th>\n",
              "    </tr>\n",
              "    <tr>\n",
              "      <th>id</th>\n",
              "      <th></th>\n",
              "      <th></th>\n",
              "      <th></th>\n",
              "      <th></th>\n",
              "      <th></th>\n",
              "      <th></th>\n",
              "      <th></th>\n",
              "      <th></th>\n",
              "      <th></th>\n",
              "      <th></th>\n",
              "      <th></th>\n",
              "      <th></th>\n",
              "      <th></th>\n",
              "      <th></th>\n",
              "      <th></th>\n",
              "      <th></th>\n",
              "      <th></th>\n",
              "      <th></th>\n",
              "      <th></th>\n",
              "      <th></th>\n",
              "      <th></th>\n",
              "    </tr>\n",
              "  </thead>\n",
              "  <tbody>\n",
              "    <tr>\n",
              "      <th>n003bba8a98662e4</th>\n",
              "      <td>0001</td>\n",
              "      <td>0</td>\n",
              "      <td>4</td>\n",
              "      <td>0</td>\n",
              "      <td>4</td>\n",
              "      <td>2</td>\n",
              "      <td>0</td>\n",
              "      <td>1</td>\n",
              "      <td>4</td>\n",
              "      <td>0</td>\n",
              "      <td>...</td>\n",
              "      <td>4</td>\n",
              "      <td>0</td>\n",
              "      <td>0</td>\n",
              "      <td>2</td>\n",
              "      <td>4</td>\n",
              "      <td>2</td>\n",
              "      <td>4</td>\n",
              "      <td>2</td>\n",
              "      <td>2</td>\n",
              "      <td>0.25</td>\n",
              "    </tr>\n",
              "    <tr>\n",
              "      <th>n003bee128c2fcfc</th>\n",
              "      <td>0001</td>\n",
              "      <td>4</td>\n",
              "      <td>2</td>\n",
              "      <td>2</td>\n",
              "      <td>2</td>\n",
              "      <td>2</td>\n",
              "      <td>3</td>\n",
              "      <td>1</td>\n",
              "      <td>3</td>\n",
              "      <td>2</td>\n",
              "      <td>...</td>\n",
              "      <td>3</td>\n",
              "      <td>3</td>\n",
              "      <td>3</td>\n",
              "      <td>2</td>\n",
              "      <td>0</td>\n",
              "      <td>2</td>\n",
              "      <td>2</td>\n",
              "      <td>3</td>\n",
              "      <td>2</td>\n",
              "      <td>0.75</td>\n",
              "    </tr>\n",
              "    <tr>\n",
              "      <th>n0048ac83aff7194</th>\n",
              "      <td>0001</td>\n",
              "      <td>4</td>\n",
              "      <td>4</td>\n",
              "      <td>2</td>\n",
              "      <td>0</td>\n",
              "      <td>2</td>\n",
              "      <td>0</td>\n",
              "      <td>4</td>\n",
              "      <td>1</td>\n",
              "      <td>3</td>\n",
              "      <td>...</td>\n",
              "      <td>0</td>\n",
              "      <td>0</td>\n",
              "      <td>1</td>\n",
              "      <td>2</td>\n",
              "      <td>0</td>\n",
              "      <td>2</td>\n",
              "      <td>3</td>\n",
              "      <td>1</td>\n",
              "      <td>2</td>\n",
              "      <td>0.25</td>\n",
              "    </tr>\n",
              "    <tr>\n",
              "      <th>n00691bec80d3e02</th>\n",
              "      <td>0001</td>\n",
              "      <td>1</td>\n",
              "      <td>4</td>\n",
              "      <td>1</td>\n",
              "      <td>1</td>\n",
              "      <td>2</td>\n",
              "      <td>0</td>\n",
              "      <td>2</td>\n",
              "      <td>1</td>\n",
              "      <td>2</td>\n",
              "      <td>...</td>\n",
              "      <td>0</td>\n",
              "      <td>2</td>\n",
              "      <td>1</td>\n",
              "      <td>2</td>\n",
              "      <td>2</td>\n",
              "      <td>2</td>\n",
              "      <td>3</td>\n",
              "      <td>2</td>\n",
              "      <td>2</td>\n",
              "      <td>0.75</td>\n",
              "    </tr>\n",
              "    <tr>\n",
              "      <th>n00b8720a2fdc4f2</th>\n",
              "      <td>0001</td>\n",
              "      <td>0</td>\n",
              "      <td>2</td>\n",
              "      <td>0</td>\n",
              "      <td>0</td>\n",
              "      <td>2</td>\n",
              "      <td>0</td>\n",
              "      <td>3</td>\n",
              "      <td>1</td>\n",
              "      <td>0</td>\n",
              "      <td>...</td>\n",
              "      <td>3</td>\n",
              "      <td>1</td>\n",
              "      <td>1</td>\n",
              "      <td>2</td>\n",
              "      <td>0</td>\n",
              "      <td>2</td>\n",
              "      <td>0</td>\n",
              "      <td>1</td>\n",
              "      <td>2</td>\n",
              "      <td>0.50</td>\n",
              "    </tr>\n",
              "    <tr>\n",
              "      <th>...</th>\n",
              "      <td>...</td>\n",
              "      <td>...</td>\n",
              "      <td>...</td>\n",
              "      <td>...</td>\n",
              "      <td>...</td>\n",
              "      <td>...</td>\n",
              "      <td>...</td>\n",
              "      <td>...</td>\n",
              "      <td>...</td>\n",
              "      <td>...</td>\n",
              "      <td>...</td>\n",
              "      <td>...</td>\n",
              "      <td>...</td>\n",
              "      <td>...</td>\n",
              "      <td>...</td>\n",
              "      <td>...</td>\n",
              "      <td>...</td>\n",
              "      <td>...</td>\n",
              "      <td>...</td>\n",
              "      <td>...</td>\n",
              "      <td>...</td>\n",
              "    </tr>\n",
              "    <tr>\n",
              "      <th>nffc587322d3d2d3</th>\n",
              "      <td>0561</td>\n",
              "      <td>1</td>\n",
              "      <td>1</td>\n",
              "      <td>1</td>\n",
              "      <td>1</td>\n",
              "      <td>2</td>\n",
              "      <td>3</td>\n",
              "      <td>1</td>\n",
              "      <td>2</td>\n",
              "      <td>1</td>\n",
              "      <td>...</td>\n",
              "      <td>4</td>\n",
              "      <td>3</td>\n",
              "      <td>3</td>\n",
              "      <td>0</td>\n",
              "      <td>4</td>\n",
              "      <td>1</td>\n",
              "      <td>2</td>\n",
              "      <td>2</td>\n",
              "      <td>1</td>\n",
              "      <td>0.50</td>\n",
              "    </tr>\n",
              "    <tr>\n",
              "      <th>nffd9d68cc1d7d11</th>\n",
              "      <td>0561</td>\n",
              "      <td>4</td>\n",
              "      <td>3</td>\n",
              "      <td>3</td>\n",
              "      <td>2</td>\n",
              "      <td>0</td>\n",
              "      <td>1</td>\n",
              "      <td>2</td>\n",
              "      <td>2</td>\n",
              "      <td>3</td>\n",
              "      <td>...</td>\n",
              "      <td>2</td>\n",
              "      <td>4</td>\n",
              "      <td>1</td>\n",
              "      <td>4</td>\n",
              "      <td>0</td>\n",
              "      <td>1</td>\n",
              "      <td>4</td>\n",
              "      <td>4</td>\n",
              "      <td>0</td>\n",
              "      <td>0.50</td>\n",
              "    </tr>\n",
              "    <tr>\n",
              "      <th>nfff7abdae15699e</th>\n",
              "      <td>0561</td>\n",
              "      <td>0</td>\n",
              "      <td>2</td>\n",
              "      <td>2</td>\n",
              "      <td>1</td>\n",
              "      <td>1</td>\n",
              "      <td>0</td>\n",
              "      <td>0</td>\n",
              "      <td>1</td>\n",
              "      <td>2</td>\n",
              "      <td>...</td>\n",
              "      <td>2</td>\n",
              "      <td>2</td>\n",
              "      <td>1</td>\n",
              "      <td>1</td>\n",
              "      <td>0</td>\n",
              "      <td>2</td>\n",
              "      <td>1</td>\n",
              "      <td>1</td>\n",
              "      <td>1</td>\n",
              "      <td>0.50</td>\n",
              "    </tr>\n",
              "    <tr>\n",
              "      <th>nfff93b5d19d1072</th>\n",
              "      <td>0561</td>\n",
              "      <td>0</td>\n",
              "      <td>0</td>\n",
              "      <td>1</td>\n",
              "      <td>1</td>\n",
              "      <td>4</td>\n",
              "      <td>3</td>\n",
              "      <td>2</td>\n",
              "      <td>2</td>\n",
              "      <td>2</td>\n",
              "      <td>...</td>\n",
              "      <td>2</td>\n",
              "      <td>1</td>\n",
              "      <td>3</td>\n",
              "      <td>1</td>\n",
              "      <td>3</td>\n",
              "      <td>0</td>\n",
              "      <td>3</td>\n",
              "      <td>2</td>\n",
              "      <td>0</td>\n",
              "      <td>0.75</td>\n",
              "    </tr>\n",
              "    <tr>\n",
              "      <th>nfffa09127210d05</th>\n",
              "      <td>0561</td>\n",
              "      <td>2</td>\n",
              "      <td>3</td>\n",
              "      <td>3</td>\n",
              "      <td>3</td>\n",
              "      <td>1</td>\n",
              "      <td>2</td>\n",
              "      <td>2</td>\n",
              "      <td>2</td>\n",
              "      <td>3</td>\n",
              "      <td>...</td>\n",
              "      <td>1</td>\n",
              "      <td>3</td>\n",
              "      <td>2</td>\n",
              "      <td>4</td>\n",
              "      <td>3</td>\n",
              "      <td>0</td>\n",
              "      <td>2</td>\n",
              "      <td>2</td>\n",
              "      <td>0</td>\n",
              "      <td>0.75</td>\n",
              "    </tr>\n",
              "  </tbody>\n",
              "</table>\n",
              "<p>62083 rows × 585 columns</p>\n",
              "</div>"
            ],
            "text/plain": [
              "                   era  feature_abating_unadaptable_weakfish  \\\n",
              "id                                                             \n",
              "n003bba8a98662e4  0001                                     0   \n",
              "n003bee128c2fcfc  0001                                     4   \n",
              "n0048ac83aff7194  0001                                     4   \n",
              "n00691bec80d3e02  0001                                     1   \n",
              "n00b8720a2fdc4f2  0001                                     0   \n",
              "...                ...                                   ...   \n",
              "nffc587322d3d2d3  0561                                     1   \n",
              "nffd9d68cc1d7d11  0561                                     4   \n",
              "nfff7abdae15699e  0561                                     0   \n",
              "nfff93b5d19d1072  0561                                     0   \n",
              "nfffa09127210d05  0561                                     2   \n",
              "\n",
              "                  feature_ablest_mauritanian_elding  \\\n",
              "id                                                    \n",
              "n003bba8a98662e4                                  4   \n",
              "n003bee128c2fcfc                                  2   \n",
              "n0048ac83aff7194                                  4   \n",
              "n00691bec80d3e02                                  4   \n",
              "n00b8720a2fdc4f2                                  2   \n",
              "...                                             ...   \n",
              "nffc587322d3d2d3                                  1   \n",
              "nffd9d68cc1d7d11                                  3   \n",
              "nfff7abdae15699e                                  2   \n",
              "nfff93b5d19d1072                                  0   \n",
              "nfffa09127210d05                                  3   \n",
              "\n",
              "                  feature_acclimatisable_unfeigned_maghreb  \\\n",
              "id                                                           \n",
              "n003bba8a98662e4                                         0   \n",
              "n003bee128c2fcfc                                         2   \n",
              "n0048ac83aff7194                                         2   \n",
              "n00691bec80d3e02                                         1   \n",
              "n00b8720a2fdc4f2                                         0   \n",
              "...                                                    ...   \n",
              "nffc587322d3d2d3                                         1   \n",
              "nffd9d68cc1d7d11                                         3   \n",
              "nfff7abdae15699e                                         2   \n",
              "nfff93b5d19d1072                                         1   \n",
              "nfffa09127210d05                                         3   \n",
              "\n",
              "                  feature_accommodable_crinite_cleft  \\\n",
              "id                                                     \n",
              "n003bba8a98662e4                                   4   \n",
              "n003bee128c2fcfc                                   2   \n",
              "n0048ac83aff7194                                   0   \n",
              "n00691bec80d3e02                                   1   \n",
              "n00b8720a2fdc4f2                                   0   \n",
              "...                                              ...   \n",
              "nffc587322d3d2d3                                   1   \n",
              "nffd9d68cc1d7d11                                   2   \n",
              "nfff7abdae15699e                                   1   \n",
              "nfff93b5d19d1072                                   1   \n",
              "nfffa09127210d05                                   3   \n",
              "\n",
              "                  feature_accretive_sorrier_skedaddle  \\\n",
              "id                                                      \n",
              "n003bba8a98662e4                                    2   \n",
              "n003bee128c2fcfc                                    2   \n",
              "n0048ac83aff7194                                    2   \n",
              "n00691bec80d3e02                                    2   \n",
              "n00b8720a2fdc4f2                                    2   \n",
              "...                                               ...   \n",
              "nffc587322d3d2d3                                    2   \n",
              "nffd9d68cc1d7d11                                    0   \n",
              "nfff7abdae15699e                                    1   \n",
              "nfff93b5d19d1072                                    4   \n",
              "nfffa09127210d05                                    1   \n",
              "\n",
              "                  feature_acetose_periotic_coronation  \\\n",
              "id                                                      \n",
              "n003bba8a98662e4                                    0   \n",
              "n003bee128c2fcfc                                    3   \n",
              "n0048ac83aff7194                                    0   \n",
              "n00691bec80d3e02                                    0   \n",
              "n00b8720a2fdc4f2                                    0   \n",
              "...                                               ...   \n",
              "nffc587322d3d2d3                                    3   \n",
              "nffd9d68cc1d7d11                                    1   \n",
              "nfff7abdae15699e                                    0   \n",
              "nfff93b5d19d1072                                    3   \n",
              "nfffa09127210d05                                    2   \n",
              "\n",
              "                  feature_additive_untrustworthy_hierologist  \\\n",
              "id                                                             \n",
              "n003bba8a98662e4                                           1   \n",
              "n003bee128c2fcfc                                           1   \n",
              "n0048ac83aff7194                                           4   \n",
              "n00691bec80d3e02                                           2   \n",
              "n00b8720a2fdc4f2                                           3   \n",
              "...                                                      ...   \n",
              "nffc587322d3d2d3                                           1   \n",
              "nffd9d68cc1d7d11                                           2   \n",
              "nfff7abdae15699e                                           0   \n",
              "nfff93b5d19d1072                                           2   \n",
              "nfffa09127210d05                                           2   \n",
              "\n",
              "                  feature_adsorbed_blizzardy_burlesque  \\\n",
              "id                                                       \n",
              "n003bba8a98662e4                                     4   \n",
              "n003bee128c2fcfc                                     3   \n",
              "n0048ac83aff7194                                     1   \n",
              "n00691bec80d3e02                                     1   \n",
              "n00b8720a2fdc4f2                                     1   \n",
              "...                                                ...   \n",
              "nffc587322d3d2d3                                     2   \n",
              "nffd9d68cc1d7d11                                     2   \n",
              "nfff7abdae15699e                                     1   \n",
              "nfff93b5d19d1072                                     2   \n",
              "nfffa09127210d05                                     2   \n",
              "\n",
              "                  feature_affettuoso_taxidermic_greg  ...  \\\n",
              "id                                                    ...   \n",
              "n003bba8a98662e4                                   0  ...   \n",
              "n003bee128c2fcfc                                   2  ...   \n",
              "n0048ac83aff7194                                   3  ...   \n",
              "n00691bec80d3e02                                   2  ...   \n",
              "n00b8720a2fdc4f2                                   0  ...   \n",
              "...                                              ...  ...   \n",
              "nffc587322d3d2d3                                   1  ...   \n",
              "nffd9d68cc1d7d11                                   3  ...   \n",
              "nfff7abdae15699e                                   2  ...   \n",
              "nfff93b5d19d1072                                   2  ...   \n",
              "nfffa09127210d05                                   3  ...   \n",
              "\n",
              "                  feature_wistful_tussive_cycloserine  \\\n",
              "id                                                      \n",
              "n003bba8a98662e4                                    4   \n",
              "n003bee128c2fcfc                                    3   \n",
              "n0048ac83aff7194                                    0   \n",
              "n00691bec80d3e02                                    0   \n",
              "n00b8720a2fdc4f2                                    3   \n",
              "...                                               ...   \n",
              "nffc587322d3d2d3                                    4   \n",
              "nffd9d68cc1d7d11                                    2   \n",
              "nfff7abdae15699e                                    2   \n",
              "nfff93b5d19d1072                                    2   \n",
              "nfffa09127210d05                                    1   \n",
              "\n",
              "                  feature_witchy_orange_muley  \\\n",
              "id                                              \n",
              "n003bba8a98662e4                            0   \n",
              "n003bee128c2fcfc                            3   \n",
              "n0048ac83aff7194                            0   \n",
              "n00691bec80d3e02                            2   \n",
              "n00b8720a2fdc4f2                            1   \n",
              "...                                       ...   \n",
              "nffc587322d3d2d3                            3   \n",
              "nffd9d68cc1d7d11                            4   \n",
              "nfff7abdae15699e                            2   \n",
              "nfff93b5d19d1072                            1   \n",
              "nfffa09127210d05                            3   \n",
              "\n",
              "                  feature_wombed_liberatory_malva  \\\n",
              "id                                                  \n",
              "n003bba8a98662e4                                0   \n",
              "n003bee128c2fcfc                                3   \n",
              "n0048ac83aff7194                                1   \n",
              "n00691bec80d3e02                                1   \n",
              "n00b8720a2fdc4f2                                1   \n",
              "...                                           ...   \n",
              "nffc587322d3d2d3                                3   \n",
              "nffd9d68cc1d7d11                                1   \n",
              "nfff7abdae15699e                                1   \n",
              "nfff93b5d19d1072                                3   \n",
              "nfffa09127210d05                                2   \n",
              "\n",
              "                  feature_won_stalwart_eisenstein  \\\n",
              "id                                                  \n",
              "n003bba8a98662e4                                2   \n",
              "n003bee128c2fcfc                                2   \n",
              "n0048ac83aff7194                                2   \n",
              "n00691bec80d3e02                                2   \n",
              "n00b8720a2fdc4f2                                2   \n",
              "...                                           ...   \n",
              "nffc587322d3d2d3                                0   \n",
              "nffd9d68cc1d7d11                                4   \n",
              "nfff7abdae15699e                                1   \n",
              "nfff93b5d19d1072                                1   \n",
              "nfffa09127210d05                                4   \n",
              "\n",
              "                  feature_wrathful_prolix_colotomy  \\\n",
              "id                                                   \n",
              "n003bba8a98662e4                                 4   \n",
              "n003bee128c2fcfc                                 0   \n",
              "n0048ac83aff7194                                 0   \n",
              "n00691bec80d3e02                                 2   \n",
              "n00b8720a2fdc4f2                                 0   \n",
              "...                                            ...   \n",
              "nffc587322d3d2d3                                 4   \n",
              "nffd9d68cc1d7d11                                 0   \n",
              "nfff7abdae15699e                                 0   \n",
              "nfff93b5d19d1072                                 3   \n",
              "nfffa09127210d05                                 3   \n",
              "\n",
              "                  feature_wrinkliest_unmaintainable_usk  \\\n",
              "id                                                        \n",
              "n003bba8a98662e4                                      2   \n",
              "n003bee128c2fcfc                                      2   \n",
              "n0048ac83aff7194                                      2   \n",
              "n00691bec80d3e02                                      2   \n",
              "n00b8720a2fdc4f2                                      2   \n",
              "...                                                 ...   \n",
              "nffc587322d3d2d3                                      1   \n",
              "nffd9d68cc1d7d11                                      1   \n",
              "nfff7abdae15699e                                      2   \n",
              "nfff93b5d19d1072                                      0   \n",
              "nfffa09127210d05                                      0   \n",
              "\n",
              "                  feature_wrought_muckier_temporality  \\\n",
              "id                                                      \n",
              "n003bba8a98662e4                                    4   \n",
              "n003bee128c2fcfc                                    2   \n",
              "n0048ac83aff7194                                    3   \n",
              "n00691bec80d3e02                                    3   \n",
              "n00b8720a2fdc4f2                                    0   \n",
              "...                                               ...   \n",
              "nffc587322d3d2d3                                    2   \n",
              "nffd9d68cc1d7d11                                    4   \n",
              "nfff7abdae15699e                                    1   \n",
              "nfff93b5d19d1072                                    3   \n",
              "nfffa09127210d05                                    2   \n",
              "\n",
              "                  feature_yelled_hysteretic_eath  \\\n",
              "id                                                 \n",
              "n003bba8a98662e4                               2   \n",
              "n003bee128c2fcfc                               3   \n",
              "n0048ac83aff7194                               1   \n",
              "n00691bec80d3e02                               2   \n",
              "n00b8720a2fdc4f2                               1   \n",
              "...                                          ...   \n",
              "nffc587322d3d2d3                               2   \n",
              "nffd9d68cc1d7d11                               4   \n",
              "nfff7abdae15699e                               1   \n",
              "nfff93b5d19d1072                               2   \n",
              "nfffa09127210d05                               2   \n",
              "\n",
              "                  feature_yoruban_unapplied_tawse  target  \n",
              "id                                                         \n",
              "n003bba8a98662e4                                2    0.25  \n",
              "n003bee128c2fcfc                                2    0.75  \n",
              "n0048ac83aff7194                                2    0.25  \n",
              "n00691bec80d3e02                                2    0.75  \n",
              "n00b8720a2fdc4f2                                2    0.50  \n",
              "...                                           ...     ...  \n",
              "nffc587322d3d2d3                                1    0.50  \n",
              "nffd9d68cc1d7d11                                0    0.50  \n",
              "nfff7abdae15699e                                1    0.50  \n",
              "nfff93b5d19d1072                                0    0.75  \n",
              "nfffa09127210d05                                0    0.75  \n",
              "\n",
              "[62083 rows x 585 columns]"
            ]
          },
          "execution_count": 4,
          "metadata": {},
          "output_type": "execute_result"
        }
      ],
      "source": [
        "# Load only the \"medium\" feature set to reduce memory usage and speedup model training (required for Colab free tier)\n",
        "# Use the \"all\" feature set to use all features\n",
        "feature_metadata = json.load(open(\"v4.2/features.json\"))\n",
        "feature_cols = feature_metadata[\"feature_sets\"][\"medium\"]\n",
        "train = pd.read_parquet(\"v4.2/train_int8.parquet\", columns=[\"era\"] + feature_cols + [\"target\"])\n",
        "\n",
        "# Downsample to every 4th era to reduce memory usage and speedup model training (suggested for Colab free tier)\n",
        "# Comment out the line below to use all the data\n",
        "train = train[train[\"era\"].isin(train[\"era\"].unique()[::40])]\n",
        "train"
      ]
    },
    {
      "cell_type": "markdown",
      "metadata": {
        "id": "jnAy2cu_cVDV"
      },
      "source": [
        "### Eras\n",
        "As mentioned above, each `era` corresponds to a different date. Each era is exactly 1 week apart.\n",
        "\n",
        "It is helpful to think about rows of stocks within the same `era` as a single example. You will notice that throughout this notebook and other examples, we often talk about things \"per era\". For example, the number of rows per era represents the number of stocks in Numerai's investable universe on that date."
      ]
    },
    {
      "cell_type": "code",
      "execution_count": 5,
      "metadata": {
        "colab": {
          "base_uri": "https://localhost:8080/",
          "height": 333
        },
        "id": "opPp4kd9cZf1",
        "outputId": "de9adaff-33fe-45a9-e4b2-d828f3dca865"
      },
      "outputs": [
        {
          "data": {
            "image/png": "[encoded data removed]",
            "text/plain": [
              "<Figure size 500x300 with 1 Axes>"
            ]
          },
          "metadata": {},
          "output_type": "display_data"
        }
      ],
      "source": [
        "# Plot the number of rows per era\n",
        "train.groupby(\"era\").size().plot(title=\"Number of rows per era\", figsize=(5, 3), xlabel=\"Era\");"
      ]
    },
    {
      "cell_type": "markdown",
      "metadata": {
        "id": "wovoAP-5cg1O"
      },
      "source": [
        "### Features\n",
        "As mentioned above, `features` are quantitative attributes of each stock: fundamentals like P/E ratio, technical signals like RSI, market data like short interest, secondary data like analyst ratings, and much more.\n",
        "\n",
        "The underlying definition of each feature is not important, just know that Numerai has included these features in the dataset because we believe they are predictive of the `target`."
      ]
    },
    {
      "cell_type": "code",
      "execution_count": 6,
      "metadata": {
        "colab": {
          "base_uri": "https://localhost:8080/"
        },
        "id": "L0FX6zLFchzt",
        "outputId": "71656854-5a2e-4d67-cdc0-9ceaf9814f9f"
      },
      "outputs": [
        {
          "data": {
            "text/plain": [
              "(62083, 585)"
            ]
          },
          "execution_count": 6,
          "metadata": {},
          "output_type": "execute_result"
        }
      ],
      "source": [
        "train.shape"
      ]
    },
    {
      "cell_type": "markdown",
      "metadata": {
        "id": "M4b4m1mvc4m-"
      },
      "source": [
        "Feature values are binned into 5 equal bins: `0`, `1`, `2`, `3`, `4`. This heavy regularization of feature values is to avoid overfitting as the underlying values are extremely noisy.\n",
        "\n",
        "If data for a particular feature is missing for that era (more common in early `eras`), then all values will be set to `2`."
      ]
    },
    {
      "cell_type": "code",
      "execution_count": 7,
      "metadata": {
        "colab": {
          "base_uri": "https://localhost:8080/",
          "height": 314
        },
        "id": "xK2ZCaffc6HW",
        "outputId": "7d619915-bcd5-4dcb-c385-e9be439ad72e"
      },
      "outputs": [
        {
          "data": {
            "image/png": "[encoded data removed]",
            "text/plain": [
              "<Figure size 1000x300 with 2 Axes>"
            ]
          },
          "metadata": {},
          "output_type": "display_data"
        }
      ],
      "source": [
        "import matplotlib.pyplot as plt\n",
        "fig, (ax1, ax2) = plt.subplots(1, 2, figsize=(10, 3))\n",
        "first_era = train[train[\"era\"] == train[\"era\"].unique()[0]]\n",
        "last_era = train[train[\"era\"] == train[\"era\"].unique()[-1]]\n",
        "last_era[feature_cols[-1]].plot(kind=\"hist\", title=\"5 equal bins\", density=True, bins=50, ax=ax1);\n",
        "first_era[feature_cols[-1]].plot(kind=\"hist\", title=\"missing data\", density=True, bins=50, ax=ax2);"
      ]
    },
    {
      "cell_type": "markdown",
      "metadata": {
        "id": "39N-bMhwdCXW"
      },
      "source": [
        "### Target\n",
        "The `target` is a measure of 20-day stock market returns. Specifically, it is a measure of \"stock-specific\" returns that are not \"explained\" by broader trends in the market, country, sector, or well-known \"factors\".\n",
        "\n",
        "Target values are binned into 5 unequal bins: `0`, `0.25`, `0.5`, `0.75`, `1.0`. Again, this heavy regularization of target values is to avoid overfitting as the underlying values are extremely noisy."
      ]
    },
    {
      "cell_type": "code",
      "execution_count": 8,
      "metadata": {
        "colab": {
          "base_uri": "https://localhost:8080/",
          "height": 314
        },
        "id": "DUCcvoLTdDUW",
        "outputId": "675887af-a4df-40e7-c628-64075ac50270"
      },
      "outputs": [
        {
          "data": {
            "image/png": "[encoded data removed]",
            "text/plain": [
              "<Figure size 500x300 with 1 Axes>"
            ]
          },
          "metadata": {},
          "output_type": "display_data"
        }
      ],
      "source": [
        "# Plot density histogram of the target\n",
        "train[\"target\"].plot(kind=\"hist\", title=\"Target\", figsize=(5, 3), xlabel=\"Value\", density=True, bins=50);"
      ]
    },
    {
      "cell_type": "markdown",
      "metadata": {
        "id": "IoaPjM9SdNLl"
      },
      "source": [
        "### Pandas Profiling Report"
      ]
    },
    {
      "cell_type": "code",
      "execution_count": 9,
      "metadata": {
        "id": "jRFDboWydbAv"
      },
      "outputs": [],
      "source": [
        "# from ydata_profiling import ProfileReport\n",
        "\n",
        "# profile = ProfileReport(train, title=\"Profiling Report\", minimal=True,)"
      ]
    },
    {
      "cell_type": "code",
      "execution_count": 10,
      "metadata": {
        "id": "0QrQ6Nu1eVFX"
      },
      "outputs": [],
      "source": [
        "# profile.to_notebook_iframe()"
      ]
    },
    {
      "cell_type": "code",
      "execution_count": 11,
      "metadata": {
        "id": "WZXVFYwygnd8"
      },
      "outputs": [],
      "source": [
        "# profile.to_file(\"pandas_profile.html\")"
      ]
    },
    {
      "cell_type": "markdown",
      "metadata": {
        "id": "kfQ9rv57M72v"
      },
      "source": [
        "### Reduce Dataset"
      ]
    },
    {
      "cell_type": "code",
      "execution_count": 12,
      "metadata": {
        "id": "jizbhB37M-kA"
      },
      "outputs": [],
      "source": [
        "# divisor = 10\n",
        "\n",
        "# train = train.tail(int(train.shape[0]/50))\n",
        "\n",
        "# import random\n",
        "\n",
        "# # Calculate the number of features to select (a quarter of the total)\n",
        "# num_features_to_select = len(feature_cols) // (100)  # Use // for integer division\n",
        "\n",
        "# # Randomly select a quarter of features\n",
        "# selected_features = random.sample(feature_cols, num_features_to_select)"
      ]
    },
    {
      "cell_type": "markdown",
      "metadata": {
        "id": "-mymo6_kfEaC"
      },
      "source": [
        "### Baseline Modelling (AutoML)"
      ]
    },
    {
      "cell_type": "code",
      "execution_count": 13,
      "metadata": {
        "id": "GT2tQtzJfT2N"
      },
      "outputs": [],
      "source": [
        "from lazypredict.Supervised import LazyRegressor\n",
        "from sklearn.model_selection import train_test_split\n",
        "from sklearn.utils import shuffle\n",
        "import numpy as np\n",
        "\n",
        "# Define the features and target\n",
        "X = train[feature_cols]\n",
        "y = train['target']\n",
        "\n",
        "# Split the data into training and testing sets stratified by multiple columns\n",
        "X_train, X_test, y_train, y_test = train_test_split(\n",
        "    X,\n",
        "    y,\n",
        "    test_size=0.3,\n",
        "    random_state=42,\n",
        "    stratify=train[['era', 'target']]\n",
        ")"
      ]
    },
    {
      "cell_type": "code",
      "execution_count": 14,
      "metadata": {
        "colab": {
          "base_uri": "https://localhost:8080/"
        },
        "id": "PMlKNJ8znhUo",
        "outputId": "7f33488c-6487-4db9-c759-46dbcf80f2c8"
      },
      "outputs": [
        {
          "name": "stdout",
          "output_type": "stream",
          "text": [
            "(18625, 583)\n",
            "(43458, 583)\n"
          ]
        }
      ],
      "source": [
        "print(X_test.shape)\n",
        "print(X_train.shape)"
      ]
    },
    {
      "cell_type": "code",
      "execution_count": 15,
      "metadata": {
        "id": "OOk05pqSGXLp"
      },
      "outputs": [],
      "source": [
        "# # Define the custom correlation function\n",
        "# def numerai_corr(target, preds):\n",
        "#     ranked_preds = (pd.Series(preds).rank(method=\"average\").values - 0.5) / len(preds)\n",
        "#     gauss_ranked_preds = stats.norm.ppf(ranked_preds)\n",
        "\n",
        "#     centered_target = target - np.mean(target)\n",
        "\n",
        "#     preds_p15 = np.sign(gauss_ranked_preds) * np.abs(gauss_ranked_preds) ** 1.5\n",
        "#     target_p15 = np.sign(centered_target) * np.abs(centered_target) ** 1.5\n",
        "\n",
        "#     return np.corrcoef(preds_p15, target_p15)[0, 1]"
      ]
    },
    {
      "cell_type": "code",
      "execution_count": 16,
      "metadata": {
        "id": "WT0kO1bG244X"
      },
      "outputs": [],
      "source": [
        "def numerai_corr(target, preds):\n",
        "\n",
        "    from scipy import stats\n",
        "\n",
        "    # Check for NaN in inputs\n",
        "    if np.isnan(preds).any() or np.isnan(target).any():\n",
        "        print(\"NaN values found in predictions or target\")\n",
        "        return 0  # or handle it differently\n",
        "\n",
        "    ranked_preds = (pd.Series(preds).rank(method=\"average\").values - 0.5) / len(preds)\n",
        "    gauss_ranked_preds = stats.norm.ppf(ranked_preds)\n",
        "\n",
        "    # Check for NaN after transformations\n",
        "    if np.isnan(gauss_ranked_preds).any():\n",
        "        print(\"NaN values found after ranking and Gaussian transformation\")\n",
        "        return 0\n",
        "\n",
        "    centered_target = target - np.mean(target)\n",
        "\n",
        "    preds_p15 = np.sign(gauss_ranked_preds) * np.abs(gauss_ranked_preds) ** 1.5\n",
        "    target_p15 = np.sign(centered_target) * np.abs(centered_target) ** 1.5\n",
        "\n",
        "    # Check final correlation calculation\n",
        "    corr = np.corrcoef(preds_p15, target_p15)[0, 1]\n",
        "    if np.isnan(corr):\n",
        "        print(\"NaN value in correlation calculation\")\n",
        "        return 0\n",
        "\n",
        "    return corr"
      ]
    },
    {
      "cell_type": "code",
      "execution_count": 17,
      "metadata": {
        "colab": {
          "base_uri": "https://localhost:8080/"
        },
        "id": "RvH7k6Vpiba9",
        "outputId": "bc596c6b-a127-46e8-9f95-261fd9c77c1d"
      },
      "outputs": [
        {
          "name": "stderr",
          "output_type": "stream",
          "text": [
            " 12%|█▏        | 5/42 [01:07<05:36,  9.09s/it]"
          ]
        },
        {
          "name": "stdout",
          "output_type": "stream",
          "text": [
            "NaN value in correlation calculation\n"
          ]
        },
        {
          "name": "stderr",
          "output_type": "stream",
          "text": [
            " 14%|█▍        | 6/42 [01:08<03:46,  6.29s/it]"
          ]
        },
        {
          "name": "stdout",
          "output_type": "stream",
          "text": [
            "NaN value in correlation calculation\n"
          ]
        },
        {
          "name": "stderr",
          "output_type": "stream",
          "text": [
            " 24%|██▍       | 10/42 [07:23<42:30, 79.69s/it]  "
          ]
        }
      ],
      "source": [
        "# Define and fit the regressor\n",
        "numerai_corr.__name__ = 'numerai_corr'\n",
        "reg = LazyRegressor(verbose=0, ignore_warnings=True, custom_metric=numerai_corr)\n",
        "models, predictions = reg.fit(X_train, X_test, y_train, y_test)"
      ]
    },
    {
      "cell_type": "code",
      "execution_count": null,
      "metadata": {},
      "outputs": [],
      "source": [
        "# Create a DataFrame to store model results\n",
        "model_results = pd.DataFrame({\n",
        "    'Model Name': models.index,           # Model names\n",
        "    'Adjusted R-Squared': models['Adjusted R-Squared'],    # Example performance metric (replace with actual metrics)\n",
        "    'R-Squared': models['R-Squared'],               # Replace with the metrics you want to save\n",
        "    'RMSE': models['RMSE'],\n",
        "    'Time Taken': models['Time Taken'],\n",
        "    'numerai_corr': models['numerai_corr'], \n",
        "    # Add more metrics as needed\n",
        "})\n",
        "\n",
        "# Save the DataFrame to a CSV file\n",
        "model_results.to_csv('model_results_40.csv', index=False)"
      ]
    },
    {
      "cell_type": "code",
      "execution_count": null,
      "metadata": {
        "colab": {
          "base_uri": "https://localhost:8080/",
          "height": 1000
        },
        "id": "o9o7T_jnE3Lm",
        "outputId": "df5b18b6-2a03-41b4-a680-5ccb54e38d77"
      },
      "outputs": [],
      "source": [
        "models"
      ]
    },
    {
      "cell_type": "code",
      "execution_count": null,
      "metadata": {},
      "outputs": [],
      "source": []
    }
  ],
  "metadata": {
    "colab": {
      "authorship_tag": "ABX9TyOHsxwgNlUG5rqtm9NJZfBo",
      "include_colab_link": true,
      "provenance": []
    },
    "kernelspec": {
      "display_name": "Python 3.10.12 ('numerai-venv': venv)",
      "language": "python",
      "name": "python3"
    },
    "language_info": {
      "codemirror_mode": {
        "name": "ipython",
        "version": 3
      },
      "file_extension": ".py",
      "mimetype": "text/x-python",
      "name": "python",
      "nbconvert_exporter": "python",
      "pygments_lexer": "ipython3",
      "version": "3.10.12"
    },
    "vscode": {
      "interpreter": {
        "hash": "d3dbff9be81bcd9112531e50341ef34c74ba3e1177c01012eee357c29696e483"
      }
    }
  },
  "nbformat": 4,
  "nbformat_minor": 0
}
