{
  "cells": [
    {
      "cell_type": "markdown",
      "metadata": {
        "colab_type": "text",
        "id": "view-in-github"
      },
      "source": [
        "<a href=\"https://colab.research.google.com/github/ayotomiwaa/aml-numerai-2/blob/main/LightGBM.ipynb\" target=\"_parent\"><img src=\"https://colab.research.google.com/assets/colab-badge.svg\" alt=\"Open In Colab\"/></a>"
      ]
    },
    {
      "cell_type": "markdown",
      "metadata": {
        "id": "Pj632iL7G7Hz"
      },
      "source": [
        "# Hello, Numerai"
      ]
    },
    {
      "cell_type": "code",
      "execution_count": 45,
      "metadata": {
        "colab": {
          "base_uri": "https://localhost:8080/"
        },
        "id": "mbAfuyl8HTel",
        "outputId": "2c650241-8a48-4925-ff63-a06ee4ed1ebd"
      },
      "outputs": [],
      "source": [
        "# from google.colab import drive\n",
        "# drive.mount('/content/drive')"
      ]
    },
    {
      "cell_type": "markdown",
      "metadata": {
        "id": "ZP1GWV0iG7H1"
      },
      "source": [
        "Hello and welcome to the Numerai Data Science Tournament!\n",
        "\n",
        "This notebook is designed to help you build your first machine learning model and start competing the tournament.\n",
        "\n",
        "In this notebook we will\n",
        "1. Download and explore the Numerai dataset\n",
        "2. Train and evaluate your first machine learning model\n",
        "3. Deploy your model to start making live submissions"
      ]
    },
    {
      "cell_type": "code",
      "execution_count": 46,
      "metadata": {
        "id": "kZ6HpapxG7H2"
      },
      "outputs": [],
      "source": [
        "# Install dependencies\n",
        "!pip install -q numerapi pandas pyarrow matplotlib lightgbm scikit-learn cloudpickle\n",
        "\n",
        "# Inline plots\n",
        "%matplotlib inline"
      ]
    },
    {
      "cell_type": "markdown",
      "metadata": {
        "id": "PZG6BLSCG7H2"
      },
      "source": [
        "## 1. Dataset  \n",
        "\n",
        "At a high level, the Numerai dataset is a tabular dataset that describes the stock market over time.\n",
        "\n",
        "Each row represents a stock at a specific point in time, where `id` is the stock id and the `era` is the date. The `features` describe the attributes of the stock (eg. P/E ratio) known on the date and the `target` is a measure of 20-day returns.\n",
        "\n",
        "The unique thing about Numerai's dataset is that it is `obfuscated`, which means that the underlying stock ids, feature names, and target definitions are anonymized. This makes it so that we can give this data out for free and so that it can be modeled without any financial domain knowledge (or bias!)."
      ]
    },
    {
      "cell_type": "markdown",
      "metadata": {
        "id": "EjgnNYMmG7H3"
      },
      "source": [
        "### Downloading the dataset\n",
        "Let's download the historical training data and take a closer look."
      ]
    },
    {
      "cell_type": "code",
      "execution_count": 47,
      "metadata": {
        "colab": {
          "base_uri": "https://localhost:8080/"
        },
        "id": "1YEJ5bC2G7H3",
        "outputId": "08357fc3-ac90-4951-a69d-b4e50e8612d5"
      },
      "outputs": [
        {
          "data": {
            "text/plain": [
              "['v4.2/features.json',\n",
              " 'v4.2/live_benchmark_models.parquet',\n",
              " 'v4.2/live_example_preds.csv',\n",
              " 'v4.2/live_example_preds.parquet',\n",
              " 'v4.2/live_int8.parquet',\n",
              " 'v4.2/meta_model.parquet',\n",
              " 'v4.2/train_benchmark_models.parquet',\n",
              " 'v4.2/train_int8.parquet',\n",
              " 'v4.2/validation_benchmark_models.parquet',\n",
              " 'v4.2/validation_example_preds.csv',\n",
              " 'v4.2/validation_example_preds.parquet',\n",
              " 'v4.2/validation_int8.parquet']"
            ]
          },
          "execution_count": 47,
          "metadata": {},
          "output_type": "execute_result"
        }
      ],
      "source": [
        "# Initialize NumerAPI - the official Python API client for Numerai\n",
        "from numerapi import NumerAPI\n",
        "napi = NumerAPI()\n",
        "\n",
        "# Print all files available for download in the latest dataset\n",
        "[f for f in napi.list_datasets() if f.startswith(\"v4.2\")]"
      ]
    },
    {
      "cell_type": "code",
      "execution_count": 48,
      "metadata": {
        "colab": {
          "base_uri": "https://localhost:8080/",
          "height": 544
        },
        "id": "hEoQm98CG7H4",
        "outputId": "14615dab-66e8-4ef2-ce09-da0214a48a62"
      },
      "outputs": [
        {
          "name": "stderr",
          "output_type": "stream",
          "text": [
            "2023-11-24 21:46:35,401 INFO numerapi.utils: target file already exists\n",
            "2023-11-24 21:46:35,402 INFO numerapi.utils: download complete\n",
            "2023-11-24 21:46:36,222 INFO numerapi.utils: target file already exists\n",
            "2023-11-24 21:46:36,223 INFO numerapi.utils: download complete\n"
          ]
        },
        {
          "data": {
            "text/html": [
              "<div>\n",
              "<style scoped>\n",
              "    .dataframe tbody tr th:only-of-type {\n",
              "        vertical-align: middle;\n",
              "    }\n",
              "\n",
              "    .dataframe tbody tr th {\n",
              "        vertical-align: top;\n",
              "    }\n",
              "\n",
              "    .dataframe thead th {\n",
              "        text-align: right;\n",
              "    }\n",
              "</style>\n",
              "<table border=\"1\" class=\"dataframe\">\n",
              "  <thead>\n",
              "    <tr style=\"text-align: right;\">\n",
              "      <th></th>\n",
              "      <th>era</th>\n",
              "      <th>feature_abating_unadaptable_weakfish</th>\n",
              "      <th>feature_ablest_mauritanian_elding</th>\n",
              "      <th>feature_acclimatisable_unfeigned_maghreb</th>\n",
              "      <th>feature_accommodable_crinite_cleft</th>\n",
              "      <th>feature_accretive_sorrier_skedaddle</th>\n",
              "      <th>feature_acetose_periotic_coronation</th>\n",
              "      <th>feature_additive_untrustworthy_hierologist</th>\n",
              "      <th>feature_adsorbed_blizzardy_burlesque</th>\n",
              "      <th>feature_affettuoso_taxidermic_greg</th>\n",
              "      <th>...</th>\n",
              "      <th>feature_wistful_tussive_cycloserine</th>\n",
              "      <th>feature_witchy_orange_muley</th>\n",
              "      <th>feature_wombed_liberatory_malva</th>\n",
              "      <th>feature_won_stalwart_eisenstein</th>\n",
              "      <th>feature_wrathful_prolix_colotomy</th>\n",
              "      <th>feature_wrinkliest_unmaintainable_usk</th>\n",
              "      <th>feature_wrought_muckier_temporality</th>\n",
              "      <th>feature_yelled_hysteretic_eath</th>\n",
              "      <th>feature_yoruban_unapplied_tawse</th>\n",
              "      <th>target</th>\n",
              "    </tr>\n",
              "    <tr>\n",
              "      <th>id</th>\n",
              "      <th></th>\n",
              "      <th></th>\n",
              "      <th></th>\n",
              "      <th></th>\n",
              "      <th></th>\n",
              "      <th></th>\n",
              "      <th></th>\n",
              "      <th></th>\n",
              "      <th></th>\n",
              "      <th></th>\n",
              "      <th></th>\n",
              "      <th></th>\n",
              "      <th></th>\n",
              "      <th></th>\n",
              "      <th></th>\n",
              "      <th></th>\n",
              "      <th></th>\n",
              "      <th></th>\n",
              "      <th></th>\n",
              "      <th></th>\n",
              "      <th></th>\n",
              "    </tr>\n",
              "  </thead>\n",
              "  <tbody>\n",
              "    <tr>\n",
              "      <th>n003bba8a98662e4</th>\n",
              "      <td>0001</td>\n",
              "      <td>0</td>\n",
              "      <td>4</td>\n",
              "      <td>0</td>\n",
              "      <td>4</td>\n",
              "      <td>2</td>\n",
              "      <td>0</td>\n",
              "      <td>1</td>\n",
              "      <td>4</td>\n",
              "      <td>0</td>\n",
              "      <td>...</td>\n",
              "      <td>4</td>\n",
              "      <td>0</td>\n",
              "      <td>0</td>\n",
              "      <td>2</td>\n",
              "      <td>4</td>\n",
              "      <td>2</td>\n",
              "      <td>4</td>\n",
              "      <td>2</td>\n",
              "      <td>2</td>\n",
              "      <td>0.25</td>\n",
              "    </tr>\n",
              "    <tr>\n",
              "      <th>n003bee128c2fcfc</th>\n",
              "      <td>0001</td>\n",
              "      <td>4</td>\n",
              "      <td>2</td>\n",
              "      <td>2</td>\n",
              "      <td>2</td>\n",
              "      <td>2</td>\n",
              "      <td>3</td>\n",
              "      <td>1</td>\n",
              "      <td>3</td>\n",
              "      <td>2</td>\n",
              "      <td>...</td>\n",
              "      <td>3</td>\n",
              "      <td>3</td>\n",
              "      <td>3</td>\n",
              "      <td>2</td>\n",
              "      <td>0</td>\n",
              "      <td>2</td>\n",
              "      <td>2</td>\n",
              "      <td>3</td>\n",
              "      <td>2</td>\n",
              "      <td>0.75</td>\n",
              "    </tr>\n",
              "    <tr>\n",
              "      <th>n0048ac83aff7194</th>\n",
              "      <td>0001</td>\n",
              "      <td>4</td>\n",
              "      <td>4</td>\n",
              "      <td>2</td>\n",
              "      <td>0</td>\n",
              "      <td>2</td>\n",
              "      <td>0</td>\n",
              "      <td>4</td>\n",
              "      <td>1</td>\n",
              "      <td>3</td>\n",
              "      <td>...</td>\n",
              "      <td>0</td>\n",
              "      <td>0</td>\n",
              "      <td>1</td>\n",
              "      <td>2</td>\n",
              "      <td>0</td>\n",
              "      <td>2</td>\n",
              "      <td>3</td>\n",
              "      <td>1</td>\n",
              "      <td>2</td>\n",
              "      <td>0.25</td>\n",
              "    </tr>\n",
              "    <tr>\n",
              "      <th>n00691bec80d3e02</th>\n",
              "      <td>0001</td>\n",
              "      <td>1</td>\n",
              "      <td>4</td>\n",
              "      <td>1</td>\n",
              "      <td>1</td>\n",
              "      <td>2</td>\n",
              "      <td>0</td>\n",
              "      <td>2</td>\n",
              "      <td>1</td>\n",
              "      <td>2</td>\n",
              "      <td>...</td>\n",
              "      <td>0</td>\n",
              "      <td>2</td>\n",
              "      <td>1</td>\n",
              "      <td>2</td>\n",
              "      <td>2</td>\n",
              "      <td>2</td>\n",
              "      <td>3</td>\n",
              "      <td>2</td>\n",
              "      <td>2</td>\n",
              "      <td>0.75</td>\n",
              "    </tr>\n",
              "    <tr>\n",
              "      <th>n00b8720a2fdc4f2</th>\n",
              "      <td>0001</td>\n",
              "      <td>0</td>\n",
              "      <td>2</td>\n",
              "      <td>0</td>\n",
              "      <td>0</td>\n",
              "      <td>2</td>\n",
              "      <td>0</td>\n",
              "      <td>3</td>\n",
              "      <td>1</td>\n",
              "      <td>0</td>\n",
              "      <td>...</td>\n",
              "      <td>3</td>\n",
              "      <td>1</td>\n",
              "      <td>1</td>\n",
              "      <td>2</td>\n",
              "      <td>0</td>\n",
              "      <td>2</td>\n",
              "      <td>0</td>\n",
              "      <td>1</td>\n",
              "      <td>2</td>\n",
              "      <td>0.50</td>\n",
              "    </tr>\n",
              "    <tr>\n",
              "      <th>...</th>\n",
              "      <td>...</td>\n",
              "      <td>...</td>\n",
              "      <td>...</td>\n",
              "      <td>...</td>\n",
              "      <td>...</td>\n",
              "      <td>...</td>\n",
              "      <td>...</td>\n",
              "      <td>...</td>\n",
              "      <td>...</td>\n",
              "      <td>...</td>\n",
              "      <td>...</td>\n",
              "      <td>...</td>\n",
              "      <td>...</td>\n",
              "      <td>...</td>\n",
              "      <td>...</td>\n",
              "      <td>...</td>\n",
              "      <td>...</td>\n",
              "      <td>...</td>\n",
              "      <td>...</td>\n",
              "      <td>...</td>\n",
              "      <td>...</td>\n",
              "    </tr>\n",
              "    <tr>\n",
              "      <th>nff897cee6baed9c</th>\n",
              "      <td>0501</td>\n",
              "      <td>2</td>\n",
              "      <td>2</td>\n",
              "      <td>4</td>\n",
              "      <td>0</td>\n",
              "      <td>0</td>\n",
              "      <td>1</td>\n",
              "      <td>3</td>\n",
              "      <td>2</td>\n",
              "      <td>4</td>\n",
              "      <td>...</td>\n",
              "      <td>1</td>\n",
              "      <td>2</td>\n",
              "      <td>1</td>\n",
              "      <td>1</td>\n",
              "      <td>4</td>\n",
              "      <td>1</td>\n",
              "      <td>2</td>\n",
              "      <td>2</td>\n",
              "      <td>1</td>\n",
              "      <td>0.75</td>\n",
              "    </tr>\n",
              "    <tr>\n",
              "      <th>nffb9d99f6a86ac3</th>\n",
              "      <td>0501</td>\n",
              "      <td>0</td>\n",
              "      <td>0</td>\n",
              "      <td>0</td>\n",
              "      <td>1</td>\n",
              "      <td>3</td>\n",
              "      <td>0</td>\n",
              "      <td>4</td>\n",
              "      <td>2</td>\n",
              "      <td>0</td>\n",
              "      <td>...</td>\n",
              "      <td>2</td>\n",
              "      <td>3</td>\n",
              "      <td>0</td>\n",
              "      <td>1</td>\n",
              "      <td>0</td>\n",
              "      <td>0</td>\n",
              "      <td>4</td>\n",
              "      <td>0</td>\n",
              "      <td>2</td>\n",
              "      <td>0.25</td>\n",
              "    </tr>\n",
              "    <tr>\n",
              "      <th>nffc3bcc28eff6b9</th>\n",
              "      <td>0501</td>\n",
              "      <td>1</td>\n",
              "      <td>2</td>\n",
              "      <td>3</td>\n",
              "      <td>2</td>\n",
              "      <td>4</td>\n",
              "      <td>2</td>\n",
              "      <td>1</td>\n",
              "      <td>4</td>\n",
              "      <td>3</td>\n",
              "      <td>...</td>\n",
              "      <td>3</td>\n",
              "      <td>3</td>\n",
              "      <td>3</td>\n",
              "      <td>1</td>\n",
              "      <td>2</td>\n",
              "      <td>0</td>\n",
              "      <td>1</td>\n",
              "      <td>3</td>\n",
              "      <td>3</td>\n",
              "      <td>0.50</td>\n",
              "    </tr>\n",
              "    <tr>\n",
              "      <th>nffd66e7f9bdab7f</th>\n",
              "      <td>0501</td>\n",
              "      <td>0</td>\n",
              "      <td>3</td>\n",
              "      <td>1</td>\n",
              "      <td>4</td>\n",
              "      <td>0</td>\n",
              "      <td>2</td>\n",
              "      <td>3</td>\n",
              "      <td>2</td>\n",
              "      <td>0</td>\n",
              "      <td>...</td>\n",
              "      <td>3</td>\n",
              "      <td>4</td>\n",
              "      <td>3</td>\n",
              "      <td>1</td>\n",
              "      <td>2</td>\n",
              "      <td>4</td>\n",
              "      <td>3</td>\n",
              "      <td>1</td>\n",
              "      <td>2</td>\n",
              "      <td>0.25</td>\n",
              "    </tr>\n",
              "    <tr>\n",
              "      <th>nffe980db9630f26</th>\n",
              "      <td>0501</td>\n",
              "      <td>2</td>\n",
              "      <td>4</td>\n",
              "      <td>3</td>\n",
              "      <td>3</td>\n",
              "      <td>2</td>\n",
              "      <td>4</td>\n",
              "      <td>4</td>\n",
              "      <td>0</td>\n",
              "      <td>3</td>\n",
              "      <td>...</td>\n",
              "      <td>2</td>\n",
              "      <td>2</td>\n",
              "      <td>1</td>\n",
              "      <td>0</td>\n",
              "      <td>1</td>\n",
              "      <td>4</td>\n",
              "      <td>3</td>\n",
              "      <td>2</td>\n",
              "      <td>1</td>\n",
              "      <td>0.75</td>\n",
              "    </tr>\n",
              "  </tbody>\n",
              "</table>\n",
              "<p>23319 rows × 585 columns</p>\n",
              "</div>"
            ],
            "text/plain": [
              "                   era  feature_abating_unadaptable_weakfish  \\\n",
              "id                                                             \n",
              "n003bba8a98662e4  0001                                     0   \n",
              "n003bee128c2fcfc  0001                                     4   \n",
              "n0048ac83aff7194  0001                                     4   \n",
              "n00691bec80d3e02  0001                                     1   \n",
              "n00b8720a2fdc4f2  0001                                     0   \n",
              "...                ...                                   ...   \n",
              "nff897cee6baed9c  0501                                     2   \n",
              "nffb9d99f6a86ac3  0501                                     0   \n",
              "nffc3bcc28eff6b9  0501                                     1   \n",
              "nffd66e7f9bdab7f  0501                                     0   \n",
              "nffe980db9630f26  0501                                     2   \n",
              "\n",
              "                  feature_ablest_mauritanian_elding  \\\n",
              "id                                                    \n",
              "n003bba8a98662e4                                  4   \n",
              "n003bee128c2fcfc                                  2   \n",
              "n0048ac83aff7194                                  4   \n",
              "n00691bec80d3e02                                  4   \n",
              "n00b8720a2fdc4f2                                  2   \n",
              "...                                             ...   \n",
              "nff897cee6baed9c                                  2   \n",
              "nffb9d99f6a86ac3                                  0   \n",
              "nffc3bcc28eff6b9                                  2   \n",
              "nffd66e7f9bdab7f                                  3   \n",
              "nffe980db9630f26                                  4   \n",
              "\n",
              "                  feature_acclimatisable_unfeigned_maghreb  \\\n",
              "id                                                           \n",
              "n003bba8a98662e4                                         0   \n",
              "n003bee128c2fcfc                                         2   \n",
              "n0048ac83aff7194                                         2   \n",
              "n00691bec80d3e02                                         1   \n",
              "n00b8720a2fdc4f2                                         0   \n",
              "...                                                    ...   \n",
              "nff897cee6baed9c                                         4   \n",
              "nffb9d99f6a86ac3                                         0   \n",
              "nffc3bcc28eff6b9                                         3   \n",
              "nffd66e7f9bdab7f                                         1   \n",
              "nffe980db9630f26                                         3   \n",
              "\n",
              "                  feature_accommodable_crinite_cleft  \\\n",
              "id                                                     \n",
              "n003bba8a98662e4                                   4   \n",
              "n003bee128c2fcfc                                   2   \n",
              "n0048ac83aff7194                                   0   \n",
              "n00691bec80d3e02                                   1   \n",
              "n00b8720a2fdc4f2                                   0   \n",
              "...                                              ...   \n",
              "nff897cee6baed9c                                   0   \n",
              "nffb9d99f6a86ac3                                   1   \n",
              "nffc3bcc28eff6b9                                   2   \n",
              "nffd66e7f9bdab7f                                   4   \n",
              "nffe980db9630f26                                   3   \n",
              "\n",
              "                  feature_accretive_sorrier_skedaddle  \\\n",
              "id                                                      \n",
              "n003bba8a98662e4                                    2   \n",
              "n003bee128c2fcfc                                    2   \n",
              "n0048ac83aff7194                                    2   \n",
              "n00691bec80d3e02                                    2   \n",
              "n00b8720a2fdc4f2                                    2   \n",
              "...                                               ...   \n",
              "nff897cee6baed9c                                    0   \n",
              "nffb9d99f6a86ac3                                    3   \n",
              "nffc3bcc28eff6b9                                    4   \n",
              "nffd66e7f9bdab7f                                    0   \n",
              "nffe980db9630f26                                    2   \n",
              "\n",
              "                  feature_acetose_periotic_coronation  \\\n",
              "id                                                      \n",
              "n003bba8a98662e4                                    0   \n",
              "n003bee128c2fcfc                                    3   \n",
              "n0048ac83aff7194                                    0   \n",
              "n00691bec80d3e02                                    0   \n",
              "n00b8720a2fdc4f2                                    0   \n",
              "...                                               ...   \n",
              "nff897cee6baed9c                                    1   \n",
              "nffb9d99f6a86ac3                                    0   \n",
              "nffc3bcc28eff6b9                                    2   \n",
              "nffd66e7f9bdab7f                                    2   \n",
              "nffe980db9630f26                                    4   \n",
              "\n",
              "                  feature_additive_untrustworthy_hierologist  \\\n",
              "id                                                             \n",
              "n003bba8a98662e4                                           1   \n",
              "n003bee128c2fcfc                                           1   \n",
              "n0048ac83aff7194                                           4   \n",
              "n00691bec80d3e02                                           2   \n",
              "n00b8720a2fdc4f2                                           3   \n",
              "...                                                      ...   \n",
              "nff897cee6baed9c                                           3   \n",
              "nffb9d99f6a86ac3                                           4   \n",
              "nffc3bcc28eff6b9                                           1   \n",
              "nffd66e7f9bdab7f                                           3   \n",
              "nffe980db9630f26                                           4   \n",
              "\n",
              "                  feature_adsorbed_blizzardy_burlesque  \\\n",
              "id                                                       \n",
              "n003bba8a98662e4                                     4   \n",
              "n003bee128c2fcfc                                     3   \n",
              "n0048ac83aff7194                                     1   \n",
              "n00691bec80d3e02                                     1   \n",
              "n00b8720a2fdc4f2                                     1   \n",
              "...                                                ...   \n",
              "nff897cee6baed9c                                     2   \n",
              "nffb9d99f6a86ac3                                     2   \n",
              "nffc3bcc28eff6b9                                     4   \n",
              "nffd66e7f9bdab7f                                     2   \n",
              "nffe980db9630f26                                     0   \n",
              "\n",
              "                  feature_affettuoso_taxidermic_greg  ...  \\\n",
              "id                                                    ...   \n",
              "n003bba8a98662e4                                   0  ...   \n",
              "n003bee128c2fcfc                                   2  ...   \n",
              "n0048ac83aff7194                                   3  ...   \n",
              "n00691bec80d3e02                                   2  ...   \n",
              "n00b8720a2fdc4f2                                   0  ...   \n",
              "...                                              ...  ...   \n",
              "nff897cee6baed9c                                   4  ...   \n",
              "nffb9d99f6a86ac3                                   0  ...   \n",
              "nffc3bcc28eff6b9                                   3  ...   \n",
              "nffd66e7f9bdab7f                                   0  ...   \n",
              "nffe980db9630f26                                   3  ...   \n",
              "\n",
              "                  feature_wistful_tussive_cycloserine  \\\n",
              "id                                                      \n",
              "n003bba8a98662e4                                    4   \n",
              "n003bee128c2fcfc                                    3   \n",
              "n0048ac83aff7194                                    0   \n",
              "n00691bec80d3e02                                    0   \n",
              "n00b8720a2fdc4f2                                    3   \n",
              "...                                               ...   \n",
              "nff897cee6baed9c                                    1   \n",
              "nffb9d99f6a86ac3                                    2   \n",
              "nffc3bcc28eff6b9                                    3   \n",
              "nffd66e7f9bdab7f                                    3   \n",
              "nffe980db9630f26                                    2   \n",
              "\n",
              "                  feature_witchy_orange_muley  \\\n",
              "id                                              \n",
              "n003bba8a98662e4                            0   \n",
              "n003bee128c2fcfc                            3   \n",
              "n0048ac83aff7194                            0   \n",
              "n00691bec80d3e02                            2   \n",
              "n00b8720a2fdc4f2                            1   \n",
              "...                                       ...   \n",
              "nff897cee6baed9c                            2   \n",
              "nffb9d99f6a86ac3                            3   \n",
              "nffc3bcc28eff6b9                            3   \n",
              "nffd66e7f9bdab7f                            4   \n",
              "nffe980db9630f26                            2   \n",
              "\n",
              "                  feature_wombed_liberatory_malva  \\\n",
              "id                                                  \n",
              "n003bba8a98662e4                                0   \n",
              "n003bee128c2fcfc                                3   \n",
              "n0048ac83aff7194                                1   \n",
              "n00691bec80d3e02                                1   \n",
              "n00b8720a2fdc4f2                                1   \n",
              "...                                           ...   \n",
              "nff897cee6baed9c                                1   \n",
              "nffb9d99f6a86ac3                                0   \n",
              "nffc3bcc28eff6b9                                3   \n",
              "nffd66e7f9bdab7f                                3   \n",
              "nffe980db9630f26                                1   \n",
              "\n",
              "                  feature_won_stalwart_eisenstein  \\\n",
              "id                                                  \n",
              "n003bba8a98662e4                                2   \n",
              "n003bee128c2fcfc                                2   \n",
              "n0048ac83aff7194                                2   \n",
              "n00691bec80d3e02                                2   \n",
              "n00b8720a2fdc4f2                                2   \n",
              "...                                           ...   \n",
              "nff897cee6baed9c                                1   \n",
              "nffb9d99f6a86ac3                                1   \n",
              "nffc3bcc28eff6b9                                1   \n",
              "nffd66e7f9bdab7f                                1   \n",
              "nffe980db9630f26                                0   \n",
              "\n",
              "                  feature_wrathful_prolix_colotomy  \\\n",
              "id                                                   \n",
              "n003bba8a98662e4                                 4   \n",
              "n003bee128c2fcfc                                 0   \n",
              "n0048ac83aff7194                                 0   \n",
              "n00691bec80d3e02                                 2   \n",
              "n00b8720a2fdc4f2                                 0   \n",
              "...                                            ...   \n",
              "nff897cee6baed9c                                 4   \n",
              "nffb9d99f6a86ac3                                 0   \n",
              "nffc3bcc28eff6b9                                 2   \n",
              "nffd66e7f9bdab7f                                 2   \n",
              "nffe980db9630f26                                 1   \n",
              "\n",
              "                  feature_wrinkliest_unmaintainable_usk  \\\n",
              "id                                                        \n",
              "n003bba8a98662e4                                      2   \n",
              "n003bee128c2fcfc                                      2   \n",
              "n0048ac83aff7194                                      2   \n",
              "n00691bec80d3e02                                      2   \n",
              "n00b8720a2fdc4f2                                      2   \n",
              "...                                                 ...   \n",
              "nff897cee6baed9c                                      1   \n",
              "nffb9d99f6a86ac3                                      0   \n",
              "nffc3bcc28eff6b9                                      0   \n",
              "nffd66e7f9bdab7f                                      4   \n",
              "nffe980db9630f26                                      4   \n",
              "\n",
              "                  feature_wrought_muckier_temporality  \\\n",
              "id                                                      \n",
              "n003bba8a98662e4                                    4   \n",
              "n003bee128c2fcfc                                    2   \n",
              "n0048ac83aff7194                                    3   \n",
              "n00691bec80d3e02                                    3   \n",
              "n00b8720a2fdc4f2                                    0   \n",
              "...                                               ...   \n",
              "nff897cee6baed9c                                    2   \n",
              "nffb9d99f6a86ac3                                    4   \n",
              "nffc3bcc28eff6b9                                    1   \n",
              "nffd66e7f9bdab7f                                    3   \n",
              "nffe980db9630f26                                    3   \n",
              "\n",
              "                  feature_yelled_hysteretic_eath  \\\n",
              "id                                                 \n",
              "n003bba8a98662e4                               2   \n",
              "n003bee128c2fcfc                               3   \n",
              "n0048ac83aff7194                               1   \n",
              "n00691bec80d3e02                               2   \n",
              "n00b8720a2fdc4f2                               1   \n",
              "...                                          ...   \n",
              "nff897cee6baed9c                               2   \n",
              "nffb9d99f6a86ac3                               0   \n",
              "nffc3bcc28eff6b9                               3   \n",
              "nffd66e7f9bdab7f                               1   \n",
              "nffe980db9630f26                               2   \n",
              "\n",
              "                  feature_yoruban_unapplied_tawse  target  \n",
              "id                                                         \n",
              "n003bba8a98662e4                                2    0.25  \n",
              "n003bee128c2fcfc                                2    0.75  \n",
              "n0048ac83aff7194                                2    0.25  \n",
              "n00691bec80d3e02                                2    0.75  \n",
              "n00b8720a2fdc4f2                                2    0.50  \n",
              "...                                           ...     ...  \n",
              "nff897cee6baed9c                                1    0.75  \n",
              "nffb9d99f6a86ac3                                2    0.25  \n",
              "nffc3bcc28eff6b9                                3    0.50  \n",
              "nffd66e7f9bdab7f                                2    0.25  \n",
              "nffe980db9630f26                                1    0.75  \n",
              "\n",
              "[23319 rows x 585 columns]"
            ]
          },
          "execution_count": 48,
          "metadata": {},
          "output_type": "execute_result"
        }
      ],
      "source": [
        "import pandas as pd\n",
        "import json\n",
        "\n",
        "# Download the training data and feature metadata\n",
        "# This will take a few minutes 🍵\n",
        "napi.download_dataset(\"v4.2/train_int8.parquet\");\n",
        "napi.download_dataset(\"v4.2/features.json\");\n",
        "\n",
        "# Load only the \"medium\" feature set to reduce memory usage and speedup model training (required for Colab free tier)\n",
        "# Use the \"all\" feature set to use all features\n",
        "feature_metadata = json.load(open(\"v4.2/features.json\"))\n",
        "feature_cols = feature_metadata[\"feature_sets\"][\"medium\"]\n",
        "train = pd.read_parquet(\"v4.2/train_int8.parquet\", columns=[\"era\"] + feature_cols + [\"target\"])\n",
        "\n",
        "# Downsample to every 4th era to reduce memory usage and speedup model training (suggested for Colab free tier)\n",
        "# Comment out the line below to use all the data\n",
        "train = train[train[\"era\"].isin(train[\"era\"].unique()[::100])]\n",
        "train"
      ]
    },
    {
      "cell_type": "markdown",
      "metadata": {
        "id": "22fjIVAmG7H5"
      },
      "source": [
        "### Eras\n",
        "As mentioned above, each `era` corresponds to a different date. Each era is exactly 1 week apart.\n",
        "\n",
        "It is helpful to think about rows of stocks within the same `era` as a single example. You will notice that throughout this notebook and other examples, we often talk about things \"per era\". For example, the number of rows per era represents the number of stocks in Numerai's investable universe on that date."
      ]
    },
    {
      "cell_type": "code",
      "execution_count": 49,
      "metadata": {
        "colab": {
          "base_uri": "https://localhost:8080/",
          "height": 333
        },
        "id": "LTUTPugcG7H5",
        "outputId": "4c80ca53-8f4f-44f8-b1ad-d8b0092bcf50"
      },
      "outputs": [
        {
          "data": {
            "image/png": "[encoded data removed]",
            "text/plain": [
              "<Figure size 500x300 with 1 Axes>"
            ]
          },
          "metadata": {},
          "output_type": "display_data"
        }
      ],
      "source": [
        "# Plot the number of rows per era\n",
        "train.groupby(\"era\").size().plot(title=\"Number of rows per era\", figsize=(5, 3), xlabel=\"Era\");"
      ]
    },
    {
      "cell_type": "markdown",
      "metadata": {
        "id": "feZPEO5qG7H5"
      },
      "source": [
        "### Features\n",
        "As mentioned above, `features` are quantitative attributes of each stock: fundamentals like P/E ratio, technical signals like RSI, market data like short interest, secondary data like analyst ratings, and much more.\n",
        "\n",
        "The underlying definition of each feature is not important, just know that Numerai has included these features in the dataset because we believe they are predictive of the `target`."
      ]
    },
    {
      "cell_type": "code",
      "execution_count": 50,
      "metadata": {
        "colab": {
          "base_uri": "https://localhost:8080/"
        },
        "id": "M31vjSbWG7H6",
        "outputId": "1bbcc184-2a1d-4ae9-e640-786da0dca775"
      },
      "outputs": [
        {
          "data": {
            "text/plain": [
              "583"
            ]
          },
          "execution_count": 50,
          "metadata": {},
          "output_type": "execute_result"
        }
      ],
      "source": [
        "# Number of features\n",
        "len(feature_cols)"
      ]
    },
    {
      "cell_type": "markdown",
      "metadata": {
        "id": "OpyNImpaG7H6"
      },
      "source": [
        "Feature values are binned into 5 equal bins: `0`, `1`, `2`, `3`, `4`. This heavy regularization of feature values is to avoid overfitting as the underlying values are extremely noisy.\n",
        "\n",
        "If data for a particular feature is missing for that era (more common in early `eras`), then all values will be set to `2`."
      ]
    },
    {
      "cell_type": "code",
      "execution_count": 51,
      "metadata": {
        "colab": {
          "base_uri": "https://localhost:8080/",
          "height": 237
        },
        "id": "re3b87rrG7H6",
        "outputId": "785fad17-d1ae-43f2-b842-bc050bc4e642"
      },
      "outputs": [
        {
          "data": {
            "image/png": "[encoded data removed]",
            "text/plain": [
              "<Figure size 1000x300 with 2 Axes>"
            ]
          },
          "metadata": {},
          "output_type": "display_data"
        }
      ],
      "source": [
        "import matplotlib.pyplot as plt\n",
        "fig, (ax1, ax2) = plt.subplots(1, 2, figsize=(10, 3))\n",
        "first_era = train[train[\"era\"] == train[\"era\"].unique()[0]]\n",
        "last_era = train[train[\"era\"] == train[\"era\"].unique()[-1]]\n",
        "last_era[feature_cols[-1]].plot(kind=\"hist\", title=\"5 equal bins\", density=True, bins=50, ax=ax1);\n",
        "first_era[feature_cols[-1]].plot(kind=\"hist\", title=\"missing data\", density=True, bins=50, ax=ax2);"
      ]
    },
    {
      "cell_type": "markdown",
      "metadata": {
        "id": "W1XrS8lNG7H7"
      },
      "source": [
        "### Target\n",
        "The `target` is a measure of 20-day stock market returns. Specifically, it is a measure of \"stock-specific\" returns that are not \"explained\" by broader trends in the market, country, sector, or well-known \"factors\".\n",
        "\n",
        "Target values are binned into 5 unequal bins: `0`, `0.25`, `0.5`, `0.75`, `1.0`. Again, this heavy regularization of target values is to avoid overfitting as the underlying values are extremely noisy."
      ]
    },
    {
      "cell_type": "code",
      "execution_count": 52,
      "metadata": {
        "colab": {
          "base_uri": "https://localhost:8080/",
          "height": 314
        },
        "id": "dulUApA1G7H7",
        "outputId": "cf72857e-cb73-4e23-95ef-ee55bde48135"
      },
      "outputs": [
        {
          "data": {
            "image/png": "[encoded data removed]",
            "text/plain": [
              "<Figure size 500x300 with 1 Axes>"
            ]
          },
          "metadata": {},
          "output_type": "display_data"
        }
      ],
      "source": [
        "# Plot density histogram of the target\n",
        "train[\"target\"].plot(kind=\"hist\", title=\"Target\", figsize=(5, 3), xlabel=\"Value\", density=True, bins=50);"
      ]
    },
    {
      "cell_type": "markdown",
      "metadata": {
        "id": "5FTDkeCLG7H7"
      },
      "source": [
        "## 2. Modeling\n",
        "At a high level, our task is to model and predict the `target` variable.\n",
        "\n",
        "### Model training\n",
        "\n",
        "You are free to use any tool or framework, but here we will be using LGBMRegressor, a popular choice amongst tournament participants.\n",
        "\n",
        "While you wait for the model to train, watch this [video](https://www.youtube.com/watch?v=w8Y7hY05z7k) to learn why tree-based models work so well on tabular datasets from our Chief Scientist MDO."
      ]
    },
    {
      "cell_type": "code",
      "execution_count": 53,
      "metadata": {
        "colab": {
          "base_uri": "https://localhost:8080/"
        },
        "id": "ZEkZxY8UG7H7",
        "outputId": "ad28d864-ef06-4391-bbb7-50378a477920"
      },
      "outputs": [
        {
          "data": {
            "text/html": [
              "<style>#sk-container-id-3 {color: black;}#sk-container-id-3 pre{padding: 0;}#sk-container-id-3 div.sk-toggleable {background-color: white;}#sk-container-id-3 label.sk-toggleable__label {cursor: pointer;display: block;width: 100%;margin-bottom: 0;padding: 0.3em;box-sizing: border-box;text-align: center;}#sk-container-id-3 label.sk-toggleable__label-arrow:before {content: \"▸\";float: left;margin-right: 0.25em;color: #696969;}#sk-container-id-3 label.sk-toggleable__label-arrow:hover:before {color: black;}#sk-container-id-3 div.sk-estimator:hover label.sk-toggleable__label-arrow:before {color: black;}#sk-container-id-3 div.sk-toggleable__content {max-height: 0;max-width: 0;overflow: hidden;text-align: left;background-color: #f0f8ff;}#sk-container-id-3 div.sk-toggleable__content pre {margin: 0.2em;color: black;border-radius: 0.25em;background-color: #f0f8ff;}#sk-container-id-3 input.sk-toggleable__control:checked~div.sk-toggleable__content {max-height: 200px;max-width: 100%;overflow: auto;}#sk-container-id-3 input.sk-toggleable__control:checked~label.sk-toggleable__label-arrow:before {content: \"▾\";}#sk-container-id-3 div.sk-estimator input.sk-toggleable__control:checked~label.sk-toggleable__label {background-color: #d4ebff;}#sk-container-id-3 div.sk-label input.sk-toggleable__control:checked~label.sk-toggleable__label {background-color: #d4ebff;}#sk-container-id-3 input.sk-hidden--visually {border: 0;clip: rect(1px 1px 1px 1px);clip: rect(1px, 1px, 1px, 1px);height: 1px;margin: -1px;overflow: hidden;padding: 0;position: absolute;width: 1px;}#sk-container-id-3 div.sk-estimator {font-family: monospace;background-color: #f0f8ff;border: 1px dotted black;border-radius: 0.25em;box-sizing: border-box;margin-bottom: 0.5em;}#sk-container-id-3 div.sk-estimator:hover {background-color: #d4ebff;}#sk-container-id-3 div.sk-parallel-item::after {content: \"\";width: 100%;border-bottom: 1px solid gray;flex-grow: 1;}#sk-container-id-3 div.sk-label:hover label.sk-toggleable__label {background-color: #d4ebff;}#sk-container-id-3 div.sk-serial::before {content: \"\";position: absolute;border-left: 1px solid gray;box-sizing: border-box;top: 0;bottom: 0;left: 50%;z-index: 0;}#sk-container-id-3 div.sk-serial {display: flex;flex-direction: column;align-items: center;background-color: white;padding-right: 0.2em;padding-left: 0.2em;position: relative;}#sk-container-id-3 div.sk-item {position: relative;z-index: 1;}#sk-container-id-3 div.sk-parallel {display: flex;align-items: stretch;justify-content: center;background-color: white;position: relative;}#sk-container-id-3 div.sk-item::before, #sk-container-id-3 div.sk-parallel-item::before {content: \"\";position: absolute;border-left: 1px solid gray;box-sizing: border-box;top: 0;bottom: 0;left: 50%;z-index: -1;}#sk-container-id-3 div.sk-parallel-item {display: flex;flex-direction: column;z-index: 1;position: relative;background-color: white;}#sk-container-id-3 div.sk-parallel-item:first-child::after {align-self: flex-end;width: 50%;}#sk-container-id-3 div.sk-parallel-item:last-child::after {align-self: flex-start;width: 50%;}#sk-container-id-3 div.sk-parallel-item:only-child::after {width: 0;}#sk-container-id-3 div.sk-dashed-wrapped {border: 1px dashed gray;margin: 0 0.4em 0.5em 0.4em;box-sizing: border-box;padding-bottom: 0.4em;background-color: white;}#sk-container-id-3 div.sk-label label {font-family: monospace;font-weight: bold;display: inline-block;line-height: 1.2em;}#sk-container-id-3 div.sk-label-container {text-align: center;}#sk-container-id-3 div.sk-container {/* jupyter's `normalize.less` sets `[hidden] { display: none; }` but bootstrap.min.css set `[hidden] { display: none !important; }` so we also need the `!important` here to be able to override the default hidden behavior on the sphinx rendered scikit-learn.org. See: https://github.com/scikit-learn/scikit-learn/issues/21755 */display: inline-block !important;position: relative;}#sk-container-id-3 div.sk-text-repr-fallback {display: none;}</style><div id=\"sk-container-id-3\" class=\"sk-top-container\"><div class=\"sk-text-repr-fallback\"><pre>SVR(C=0.1, kernel=&#x27;poly&#x27;)</pre><b>In a Jupyter environment, please rerun this cell to show the HTML representation or trust the notebook. <br />On GitHub, the HTML representation is unable to render, please try loading this page with nbviewer.org.</b></div><div class=\"sk-container\" hidden><div class=\"sk-item\"><div class=\"sk-estimator sk-toggleable\"><input class=\"sk-toggleable__control sk-hidden--visually\" id=\"sk-estimator-id-3\" type=\"checkbox\" checked><label for=\"sk-estimator-id-3\" class=\"sk-toggleable__label sk-toggleable__label-arrow\">SVR</label><div class=\"sk-toggleable__content\"><pre>SVR(C=0.1, kernel=&#x27;poly&#x27;)</pre></div></div></div></div></div>"
            ],
            "text/plain": [
              "SVR(C=0.1, kernel='poly')"
            ]
          },
          "execution_count": 53,
          "metadata": {},
          "output_type": "execute_result"
        }
      ],
      "source": [
        "# from sklearn.svm import SVR\n",
        "# from sklearn.model_selection import GridSearchCV\n",
        "\n",
        "# # Define the parameter grid\n",
        "# param_grid = {\n",
        "#     'kernel': ['linear', 'poly', 'rbf', 'sigmoid'],\n",
        "#     'C': [0.1, 1, 10],           # Example values\n",
        "#     'epsilon': [0.01, 0.1, 0.5]  # Example values\n",
        "# }\n",
        "\n",
        "# model = SVR()\n",
        "# grid_search = GridSearchCV(model, param_grid, cv=3, scoring='neg_mean_squared_error')\n",
        "\n",
        "# grid_search.fit(train[feature_cols], train[\"target\"])\n",
        "\n",
        "# # Retrieve the best model\n",
        "# best_model = grid_search.best_estimator_\n",
        "\n",
        "# # Print the best parameters and the corresponding score\n",
        "# print(\"Best parameters:\", grid_search.best_params_)\n",
        "# print(\"Best score:\", grid_search.best_score_)\n",
        "\n",
        "\n",
        "from sklearn.svm import SVR\n",
        "\n",
        "# Initialize the SVR model with chosen parameters\n",
        "# Example: using the 'rbf' kernel, C=1.0, and epsilon=0.1\n",
        "model = SVR(kernel='poly', C=0.1, epsilon=0.1)\n",
        "\n",
        "# Fit the model to your training data\n",
        "model.fit(train[feature_cols], train[\"target\"])\n"
      ]
    },
    {
      "cell_type": "markdown",
      "metadata": {
        "id": "mV1n09cQG7H8"
      },
      "source": [
        "### Validation predictions\n",
        "\n",
        "Now let's make some out-of-sample predictions on the validation dataset to evaluate our model's performance."
      ]
    },
    {
      "cell_type": "code",
      "execution_count": 54,
      "metadata": {
        "colab": {
          "base_uri": "https://localhost:8080/",
          "height": 510
        },
        "id": "CB1co8wfG7H8",
        "outputId": "a82bf1b4-1a01-4aec-ad27-57f53dbd988b"
      },
      "outputs": [
        {
          "name": "stderr",
          "output_type": "stream",
          "text": [
            "2023-11-24 22:07:48,552 INFO numerapi.utils: target file already exists\n",
            "2023-11-24 22:07:48,553 INFO numerapi.utils: download complete\n"
          ]
        }
      ],
      "source": [
        "# Download validation data\n",
        "# This will take a few minutes 🍵\n",
        "napi.download_dataset(\"v4.2/validation_int8.parquet\");\n",
        "\n",
        "# Load the validation data, filtering for data_type == \"validation\"\n",
        "validation = pd.read_parquet(\"v4.2/validation_int8.parquet\", columns=[\"era\", \"data_type\"] + feature_cols + [\"target\"])\n",
        "validation = validation[validation[\"data_type\"] == \"validation\"]\n",
        "del validation[\"data_type\"]\n",
        "\n",
        "# Downsample to every 4th era to reduce memory usage and speedup evaluation (suggested for Colab free tier)\n",
        "# Comment out the line below to use all the data (higher memory usage, slower inference, more accurate evaluation)\n",
        "validation = validation[validation[\"era\"].isin(validation[\"era\"].unique()[::4])]\n",
        "\n",
        "# Eras are 1 week apart, but targets look 4 weeks into the future, so we need to \"embargo\" the 4 eras following our last train era to avoid data leakage.\n",
        "last_train_era = int(train[\"era\"].unique()[-1])\n",
        "eras_to_embargo = [str(era).zfill(4) for era in [last_train_era + i for i in range(4)]]\n",
        "validation = validation[~validation[\"era\"].isin(eras_to_embargo)]\n",
        "\n",
        "# Generate predictions against the out-of-sample validation features\n",
        "# This will take a few minutes 🍵\n",
        "validation[\"prediction\"] = model.predict(validation[feature_cols])\n",
        "validation[[\"era\", \"prediction\", \"target\"]]"
      ]
    },
    {
      "cell_type": "markdown",
      "metadata": {
        "id": "EL4OjahpG7H8"
      },
      "source": [
        "### Performance evaluation\n",
        "The primary scoring metric in Numerai is called `numerai_corr` or `CORR`, which is a Numerai specific variant of the Pearson Correlation Coefficient.\n",
        "\n",
        "This metric is designed to \"align incentives\" between model and hedge fund performance. A model with a good `CORR` score should help the hedge fund make good returns.\n",
        "\n",
        "On the Numerai website you will also see this score referred to as `CORR20V2`, where the \"20\" refers to the 20-day return target and \"v2\" specifies that we are using the 2nd version of the scoring function."
      ]
    },
    {
      "cell_type": "code",
      "execution_count": null,
      "metadata": {
        "id": "WwGjSChhG7H9"
      },
      "outputs": [],
      "source": [
        "from scipy import stats\n",
        "import numpy as np\n",
        "\n",
        "# Numerai's primary scoring metric\n",
        "def numerai_corr(preds, target):\n",
        "    # rank (keeping ties) then gaussianize predictions to standardize prediction distributions\n",
        "    ranked_preds = (preds.rank(method=\"average\").values - 0.5) / preds.count()\n",
        "    gauss_ranked_preds = stats.norm.ppf(ranked_preds)\n",
        "    # center targets around 0\n",
        "    centered_target = target - target.mean()\n",
        "    # raise both preds and target to the power of 1.5 to accentuate the tails\n",
        "    preds_p15 = np.sign(gauss_ranked_preds) * np.abs(gauss_ranked_preds) ** 1.5\n",
        "    target_p15 = np.sign(centered_target) * np.abs(centered_target) ** 1.5\n",
        "    # finally return the Pearson correlation\n",
        "    return np.corrcoef(preds_p15, target_p15)[0, 1]"
      ]
    },
    {
      "cell_type": "markdown",
      "metadata": {
        "id": "Oc6dXcnxG7H9"
      },
      "source": [
        "As mentioned above, it is important for us to score each historical `era` independantly. So when evaluating the performance of our model, we should be looking at the \"per era\" `corr`.\n",
        "\n",
        "One thing you may notice here is how low the scores are (in the range of +/- 5% correlation). This is very normal in the domain of quantitative finance and is part of the reason why we say Numerai is the \"hardest data science tournament\" in the world."
      ]
    },
    {
      "cell_type": "code",
      "execution_count": null,
      "metadata": {
        "colab": {
          "base_uri": "https://localhost:8080/",
          "height": 405
        },
        "id": "IO45n2zdG7H9",
        "outputId": "fbe852c0-0890-4c0c-b61c-a7423706968b"
      },
      "outputs": [
        {
          "name": "stderr",
          "output_type": "stream",
          "text": [
            "/home/uthmanjinadu/Documents/aml-numerai-2/numerai-venv/lib/python3.10/site-packages/numpy/lib/function_base.py:2897: RuntimeWarning: invalid value encountered in divide\n",
            "  c /= stddev[:, None]\n",
            "/home/uthmanjinadu/Documents/aml-numerai-2/numerai-venv/lib/python3.10/site-packages/numpy/lib/function_base.py:2898: RuntimeWarning: invalid value encountered in divide\n",
            "  c /= stddev[None, :]\n"
          ]
        },
        {
          "data": {
            "image/png": "[encoded data removed]",
            "text/plain": [
              "<Figure size 1000x600 with 1 Axes>"
            ]
          },
          "metadata": {},
          "output_type": "display_data"
        }
      ],
      "source": [
        "# Compute the per-era correlation between our predictions and the target values\n",
        "per_era_corr = validation.groupby(\"era\").apply(lambda x: numerai_corr(x[\"prediction\"], x[\"target\"]))\n",
        "\n",
        "# Plot the per-era correlation\n",
        "per_era_corr.plot(kind=\"bar\", title=\"Validation Correlation\", figsize=(10, 6), xticks=[], snap=False);"
      ]
    },
    {
      "cell_type": "markdown",
      "metadata": {
        "id": "Bpu6mtEhG7H-"
      },
      "source": [
        "Instead of looking at the `corr` score for each era, it is helpful to look at the cumulative `corr`.\n",
        "\n",
        "If you are familiar with \"backtesting\" in quant finance where people simulate the historical performance of their investment strategies, you can roughly think of this plot as a backtest of your model performance over the historical validation period."
      ]
    },
    {
      "cell_type": "code",
      "execution_count": null,
      "metadata": {
        "colab": {
          "base_uri": "https://localhost:8080/",
          "height": 433
        },
        "id": "wVDXZyOiG7H-",
        "outputId": "607f0f56-eafd-490c-d1ef-f7c2771a26f2"
      },
      "outputs": [
        {
          "data": {
            "image/png": "[encoded data removed]",
            "text/plain": [
              "<Figure size 1000x600 with 1 Axes>"
            ]
          },
          "metadata": {},
          "output_type": "display_data"
        }
      ],
      "source": [
        "# Plot the cumulative per-era correlation\n",
        "per_era_corr.cumsum().plot(kind=\"line\", title=\"Cumulative Validation Correlation\", figsize=(10, 6));"
      ]
    },
    {
      "cell_type": "markdown",
      "metadata": {
        "id": "H1YLSBpoG7H-"
      },
      "source": [
        "### Performance metrics\n",
        "\n",
        "To evaluate the performance of our model, it is also helpful to compute some summary metrics over the entire validation period.\n",
        "\n",
        "`Mean` of correlations is the primary measure of your model's performance.\n",
        "\n",
        "`Sharpe` is a measure of your model's consistency, a concept borrowed from finance where it usually refers to risk adjusted returns of an investment strategy. In Numerai, we compute sharpe as the average correlation divided by the standard deviation of correlations.\n",
        "\n",
        "`Max drawdown` is a measure of your model's risk, another concept borrowed from finance where it usually refers to the maximum financial loss suffered by an investment strategy. In Numerai, we compute max drawdown as the maximum peak to trough drop in cumulative validation correlation."
      ]
    },
    {
      "cell_type": "code",
      "execution_count": null,
      "metadata": {
        "colab": {
          "base_uri": "https://localhost:8080/",
          "height": 175
        },
        "id": "UbaPhfK2G7H-",
        "outputId": "167efb4b-d8b1-4f45-f048-21fc6f144cee"
      },
      "outputs": [
        {
          "data": {
            "text/html": [
              "<div>\n",
              "<style scoped>\n",
              "    .dataframe tbody tr th:only-of-type {\n",
              "        vertical-align: middle;\n",
              "    }\n",
              "\n",
              "    .dataframe tbody tr th {\n",
              "        vertical-align: top;\n",
              "    }\n",
              "\n",
              "    .dataframe thead th {\n",
              "        text-align: right;\n",
              "    }\n",
              "</style>\n",
              "<table border=\"1\" class=\"dataframe\">\n",
              "  <thead>\n",
              "    <tr style=\"text-align: right;\">\n",
              "      <th></th>\n",
              "      <th>Value</th>\n",
              "    </tr>\n",
              "  </thead>\n",
              "  <tbody>\n",
              "    <tr>\n",
              "      <th>mean</th>\n",
              "      <td>NaN</td>\n",
              "    </tr>\n",
              "    <tr>\n",
              "      <th>std</th>\n",
              "      <td>NaN</td>\n",
              "    </tr>\n",
              "    <tr>\n",
              "      <th>sharpe</th>\n",
              "      <td>NaN</td>\n",
              "    </tr>\n",
              "    <tr>\n",
              "      <th>max_drawdown</th>\n",
              "      <td>NaN</td>\n",
              "    </tr>\n",
              "  </tbody>\n",
              "</table>\n",
              "</div>"
            ],
            "text/plain": [
              "              Value\n",
              "mean            NaN\n",
              "std             NaN\n",
              "sharpe          NaN\n",
              "max_drawdown    NaN"
            ]
          },
          "execution_count": 40,
          "metadata": {},
          "output_type": "execute_result"
        }
      ],
      "source": [
        "# Compute performance metrics\n",
        "corr_mean = per_era_corr.mean()\n",
        "corr_std = per_era_corr.std(ddof=0)\n",
        "corr_sharpe = corr_mean / corr_std\n",
        "max_drawdown = (per_era_corr.cumsum().expanding(min_periods=1).max() - per_era_corr.cumsum()).max()\n",
        "\n",
        "pd.DataFrame({\n",
        "    \"mean\": corr_mean,\n",
        "    \"std\": corr_std,\n",
        "    \"sharpe\": corr_sharpe,\n",
        "    \"max_drawdown\": max_drawdown\n",
        "}, index=[\"Value\"]).T"
      ]
    },
    {
      "cell_type": "markdown",
      "metadata": {
        "id": "J_6aeOyPG7H_"
      },
      "source": [
        "These performance metrics above is not amazing but good enough for us to get started. Don't worry, we will be learning how to improve our model performance in the next tutorials!"
      ]
    },
    {
      "cell_type": "markdown",
      "metadata": {
        "id": "6Ob8_tzLG7H_"
      },
      "source": [
        "## 3. Submissions\n",
        "\n",
        "Unlike Kaggle competitions that evalute models based on <ins>test</ins> performance, Numerai evaluates models based based on <ins>live</ins> performance.\n",
        "\n",
        "### Live predictions\n",
        "\n",
        "Every Tuesday-Saturday, new `live features` are released, which represent the current state of the stock market.\n",
        "\n",
        "Your task is to generate `live predictions` on the unknown target values, which represent stock market returns 20 days into the future."
      ]
    },
    {
      "cell_type": "code",
      "execution_count": null,
      "metadata": {
        "colab": {
          "base_uri": "https://localhost:8080/",
          "height": 510
        },
        "id": "9Bw3xXPhG7H_",
        "outputId": "17895878-f1e1-4578-90bb-6f39579673ca"
      },
      "outputs": [
        {
          "name": "stderr",
          "output_type": "stream",
          "text": [
            "2023-11-24 21:45:40,137 INFO numerapi.utils: target file already exists\n",
            "2023-11-24 21:45:40,138 INFO numerapi.utils: download complete\n"
          ]
        },
        {
          "data": {
            "text/html": [
              "<div>\n",
              "<style scoped>\n",
              "    .dataframe tbody tr th:only-of-type {\n",
              "        vertical-align: middle;\n",
              "    }\n",
              "\n",
              "    .dataframe tbody tr th {\n",
              "        vertical-align: top;\n",
              "    }\n",
              "\n",
              "    .dataframe thead th {\n",
              "        text-align: right;\n",
              "    }\n",
              "</style>\n",
              "<table border=\"1\" class=\"dataframe\">\n",
              "  <thead>\n",
              "    <tr style=\"text-align: right;\">\n",
              "      <th></th>\n",
              "      <th>prediction</th>\n",
              "    </tr>\n",
              "    <tr>\n",
              "      <th>id</th>\n",
              "      <th></th>\n",
              "    </tr>\n",
              "  </thead>\n",
              "  <tbody>\n",
              "    <tr>\n",
              "      <th>n0003d4eb521afdd</th>\n",
              "      <td>0.5</td>\n",
              "    </tr>\n",
              "    <tr>\n",
              "      <th>n0012110c8888c0d</th>\n",
              "      <td>0.5</td>\n",
              "    </tr>\n",
              "    <tr>\n",
              "      <th>n001722a70acb849</th>\n",
              "      <td>0.5</td>\n",
              "    </tr>\n",
              "    <tr>\n",
              "      <th>n00310f91f68207a</th>\n",
              "      <td>0.5</td>\n",
              "    </tr>\n",
              "    <tr>\n",
              "      <th>n004c1a488d4bb0d</th>\n",
              "      <td>0.5</td>\n",
              "    </tr>\n",
              "    <tr>\n",
              "      <th>...</th>\n",
              "      <td>...</td>\n",
              "    </tr>\n",
              "    <tr>\n",
              "      <th>nffb2284b09cf867</th>\n",
              "      <td>0.5</td>\n",
              "    </tr>\n",
              "    <tr>\n",
              "      <th>nffd2ebe8b9291ed</th>\n",
              "      <td>0.5</td>\n",
              "    </tr>\n",
              "    <tr>\n",
              "      <th>nffd8fc38c4a5b61</th>\n",
              "      <td>0.5</td>\n",
              "    </tr>\n",
              "    <tr>\n",
              "      <th>nffe0b61a4d4280b</th>\n",
              "      <td>0.5</td>\n",
              "    </tr>\n",
              "    <tr>\n",
              "      <th>nffe2f102bc3deb3</th>\n",
              "      <td>0.5</td>\n",
              "    </tr>\n",
              "  </tbody>\n",
              "</table>\n",
              "<p>4793 rows × 1 columns</p>\n",
              "</div>"
            ],
            "text/plain": [
              "                  prediction\n",
              "id                          \n",
              "n0003d4eb521afdd         0.5\n",
              "n0012110c8888c0d         0.5\n",
              "n001722a70acb849         0.5\n",
              "n00310f91f68207a         0.5\n",
              "n004c1a488d4bb0d         0.5\n",
              "...                      ...\n",
              "nffb2284b09cf867         0.5\n",
              "nffd2ebe8b9291ed         0.5\n",
              "nffd8fc38c4a5b61         0.5\n",
              "nffe0b61a4d4280b         0.5\n",
              "nffe2f102bc3deb3         0.5\n",
              "\n",
              "[4793 rows x 1 columns]"
            ]
          },
          "execution_count": 41,
          "metadata": {},
          "output_type": "execute_result"
        }
      ],
      "source": [
        "# Download latest live features\n",
        "napi.download_dataset(\"v4.2/live_int8.parquet\")\n",
        "\n",
        "# Load live features\n",
        "live_features = pd.read_parquet(f\"v4.2/live_int8.parquet\", columns=feature_cols)\n",
        "\n",
        "# Generate live predictions\n",
        "live_predictions = model.predict(live_features[feature_cols])\n",
        "\n",
        "# Format submission\n",
        "pd.Series(live_predictions, index=live_features.index).to_frame(\"prediction\")"
      ]
    },
    {
      "cell_type": "markdown",
      "metadata": {
        "id": "zNLvpq4OG7IA"
      },
      "source": [
        "### Model upload\n",
        "\n",
        "To participate in the tournament, you must submit live predictions every Tuesday-Saturday.\n",
        "\n",
        "To automate this process, you can simply:\n",
        "- Define your prediction pipeline as a function\n",
        "- Serialize your function using the `cloudpickle` library\n",
        "- Upload your model pickle file to Numerai\n",
        "- Let Numerai run your model to submit live predictions every day\n",
        "\n",
        "Read more about Model Uploads and other self-hosted automation options in our [docs](https://docs.numer.ai/numerai-tournament/submissions#automation).\n"
      ]
    },
    {
      "cell_type": "code",
      "execution_count": null,
      "metadata": {
        "id": "xN5_w_oAG7IA"
      },
      "outputs": [],
      "source": [
        "# Define your prediction pipeline as a function\n",
        "def predict(live_features: pd.DataFrame) -> pd.DataFrame:\n",
        "    live_predictions = model.predict(live_features[feature_cols])\n",
        "    submission = pd.Series(live_predictions, index=live_features.index)\n",
        "    return submission.to_frame(\"prediction\")"
      ]
    },
    {
      "cell_type": "code",
      "execution_count": null,
      "metadata": {
        "id": "PryUllJ8G7IA"
      },
      "outputs": [],
      "source": [
        "# Use the cloudpickle library to serialize your function\n",
        "import cloudpickle\n",
        "p = cloudpickle.dumps(predict)\n",
        "with open(\"predict.pkl\", \"wb\") as f:\n",
        "    f.write(p)"
      ]
    },
    {
      "cell_type": "code",
      "execution_count": null,
      "metadata": {
        "colab": {
          "base_uri": "https://localhost:8080/",
          "height": 17
        },
        "id": "kxrpgjj6G7IA",
        "outputId": "7ffc9896-15e2-4efe-e72f-96cbf5f849dd"
      },
      "outputs": [],
      "source": [
        "# # Download file if running in Google Colab\n",
        "# try:\n",
        "#     from google.colab import files\n",
        "#     files.download('predict.pkl')\n",
        "# except:\n",
        "#     pass"
      ]
    },
    {
      "cell_type": "markdown",
      "metadata": {
        "id": "674jxZ6tG7IB"
      },
      "source": [
        "That's it! You now have a pickle file that is ready for upload.\n",
        "\n",
        "Head back to the [Hello Numerai Tutorial](https://numer.ai/tutorial/hello-numerai) to upload your model!"
      ]
    }
  ],
  "metadata": {
    "colab": {
      "include_colab_link": true,
      "provenance": []
    },
    "kernelspec": {
      "display_name": "Python 3.10.12 ('numerai-venv': venv)",
      "language": "python",
      "name": "python3"
    },
    "language_info": {
      "codemirror_mode": {
        "name": "ipython",
        "version": 3
      },
      "file_extension": ".py",
      "mimetype": "text/x-python",
      "name": "python",
      "nbconvert_exporter": "python",
      "pygments_lexer": "ipython3",
      "version": "3.10.12"
    },
    "vscode": {
      "interpreter": {
        "hash": "d3dbff9be81bcd9112531e50341ef34c74ba3e1177c01012eee357c29696e483"
      }
    }
  },
  "nbformat": 4,
  "nbformat_minor": 0
}
